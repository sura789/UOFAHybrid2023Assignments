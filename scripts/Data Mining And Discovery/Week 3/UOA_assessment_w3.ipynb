{
  "cells": [
    {
      "cell_type": "markdown",
      "id": "c99bc0f4",
      "metadata": {
        "id": "c99bc0f4"
      },
      "source": [
        "# Week:3 Data pre-processing "
      ]
    },
    {
      "cell_type": "markdown",
      "id": "17614dd2",
      "metadata": {
        "id": "17614dd2"
      },
      "source": [
        "### Objective:\n",
        "The objective of this assignment is to perform exploratory data analysis, data pre-processing, data cleaning, scaling, transformation, check correlation between variables and perform sampling.\n",
        "\n",
        "We use the Fatal Police Shooting data to answer the questions given in this notebook."
      ]
    },
    {
      "cell_type": "markdown",
      "id": "94579906",
      "metadata": {
        "id": "94579906"
      },
      "source": [
        "### Fatal Police Shooting Data"
      ]
    },
    {
      "cell_type": "markdown",
      "id": "4fbb8326",
      "metadata": {
        "id": "4fbb8326"
      },
      "source": [
        "**About dataset**\\\n",
        "The dataset consists of following columns\n",
        "1. **id**                         : unqiue identifier of each victim\n",
        "2. **name**                       : name of a victim\n",
        "3. **date**                       : date on fatal shooting \n",
        "4. **manner_of_death**            : manner of death classification\n",
        "    * Shot\n",
        "    * Shot and Tasered\n",
        "5. **armed**                      : indicates that the victim was armed with some sort of implement that a police officer believed could inflict harm\n",
        "    * undetermined: it is not known whether or not the victim had a weapon\n",
        "    * unknown: the victim was armed, but it is not known what the object was\n",
        "    * unarmed: the victim was not armed\n",
        "6. **age**                        : age of victim\n",
        "7. **gender**                     : the gender of the victim. The Post identifies victims by the gender they identify with if reports indicate that it differs from their biological sex.\n",
        "    * M: Male\n",
        "    * F: Female\n",
        "    * None: Unknown\n",
        "8. **race**                       : race of victim\n",
        "    * W: White, non-Hispanic\n",
        "    * B: Black, non-Hispanic\n",
        "    * A: Asian\n",
        "    * N: Native American\n",
        "    * H: Hispanic\n",
        "    * O: Other\n",
        "    * None: unknown\n",
        "9. **city**                       : the municipality where the fatal shooting took place. Note that in some cases this field may contain a county name if a more specific municipality is unavailable or unknown.\n",
        "10. **state**                     : two-letter postal code abbreviation\n",
        "11. **signs_of_mental_illness**   : News reports have indicated the victim had a history of mental health issues, expressed suicidal intentions or was experiencing mental distress at the time of the shooting.\n",
        "12. **threat_level**              : These would include incidents where officers or others were shot at, threatened with a gun, attacked with other weapons or physical force, etc. The attack category is meant to flag the highest level of threat. The other and undetermined categories represent all remaining cases. Other includes many incidents where officers or others faced significant threats. \n",
        "13. **flee**                      : News reports have indicated the victim was moving away from officers\n",
        "    * Foot\n",
        "    * Car\n",
        "    * Not fleeing\n",
        "14. **body_camera**               : News reports have indicated an officer was wearing a body camera and it may have recorded some portion of the incident."
      ]
    },
    {
      "cell_type": "markdown",
      "id": "e14398de",
      "metadata": {
        "id": "e14398de"
      },
      "source": [
        "## Let's Begin"
      ]
    },
    {
      "cell_type": "code",
      "execution_count": 1,
      "id": "bbffb6a9",
      "metadata": {
        "id": "bbffb6a9"
      },
      "outputs": [],
      "source": [
        "# Install the libraries\n",
        "import pandas as pd \n",
        "import numpy as np\n",
        "import matplotlib.pyplot as plt\n",
        "import seaborn as sns\n",
        "%matplotlib inline"
      ]
    },
    {
      "cell_type": "code",
      "execution_count": 2,
      "id": "336383ca",
      "metadata": {
        "colab": {
          "base_uri": "https://localhost:8080/",
          "height": 224
        },
        "id": "336383ca",
        "outputId": "aa0c8817-afc5-45de-e3b8-e175294d2abe"
      },
      "outputs": [
        {
          "output_type": "stream",
          "name": "stdout",
          "text": [
            "Mounted at /content/drive\n"
          ]
        },
        {
          "output_type": "execute_result",
          "data": {
            "text/plain": [
              "   id                name        date   manner_of_death       armed   age  \\\n",
              "0   3          Tim Elliot  2015-01-02              shot         gun  53.0   \n",
              "1   4    Lewis Lee Lembke  2015-01-02              shot         gun  47.0   \n",
              "2   5  John Paul Quintero  2015-01-03  shot and Tasered     unarmed  23.0   \n",
              "3   8     Matthew Hoffman  2015-01-04              shot  toy weapon  32.0   \n",
              "4   9   Michael Rodriguez  2015-01-04              shot    nail gun  39.0   \n",
              "\n",
              "  gender race           city state  signs_of_mental_illness threat_level  \\\n",
              "0      M    A        Shelton    WA                     True       attack   \n",
              "1      M    W          Aloha    OR                    False       attack   \n",
              "2      M    H        Wichita    KS                    False        other   \n",
              "3      M    W  San Francisco    CA                     True       attack   \n",
              "4      M    H          Evans    CO                    False       attack   \n",
              "\n",
              "          flee  body_camera   age_categories  year  \n",
              "0  Not fleeing        False  Senior citizens  2015  \n",
              "1  Not fleeing        False            Adult  2015  \n",
              "2  Not fleeing        False            Youth  2015  \n",
              "3  Not fleeing        False            Youth  2015  \n",
              "4  Not fleeing        False            Adult  2015  "
            ],
            "text/html": [
              "\n",
              "  <div id=\"df-a6bae54a-8c11-49e3-903c-d4fdbdaf3eea\">\n",
              "    <div class=\"colab-df-container\">\n",
              "      <div>\n",
              "<style scoped>\n",
              "    .dataframe tbody tr th:only-of-type {\n",
              "        vertical-align: middle;\n",
              "    }\n",
              "\n",
              "    .dataframe tbody tr th {\n",
              "        vertical-align: top;\n",
              "    }\n",
              "\n",
              "    .dataframe thead th {\n",
              "        text-align: right;\n",
              "    }\n",
              "</style>\n",
              "<table border=\"1\" class=\"dataframe\">\n",
              "  <thead>\n",
              "    <tr style=\"text-align: right;\">\n",
              "      <th></th>\n",
              "      <th>id</th>\n",
              "      <th>name</th>\n",
              "      <th>date</th>\n",
              "      <th>manner_of_death</th>\n",
              "      <th>armed</th>\n",
              "      <th>age</th>\n",
              "      <th>gender</th>\n",
              "      <th>race</th>\n",
              "      <th>city</th>\n",
              "      <th>state</th>\n",
              "      <th>signs_of_mental_illness</th>\n",
              "      <th>threat_level</th>\n",
              "      <th>flee</th>\n",
              "      <th>body_camera</th>\n",
              "      <th>age_categories</th>\n",
              "      <th>year</th>\n",
              "    </tr>\n",
              "  </thead>\n",
              "  <tbody>\n",
              "    <tr>\n",
              "      <th>0</th>\n",
              "      <td>3</td>\n",
              "      <td>Tim Elliot</td>\n",
              "      <td>2015-01-02</td>\n",
              "      <td>shot</td>\n",
              "      <td>gun</td>\n",
              "      <td>53.0</td>\n",
              "      <td>M</td>\n",
              "      <td>A</td>\n",
              "      <td>Shelton</td>\n",
              "      <td>WA</td>\n",
              "      <td>True</td>\n",
              "      <td>attack</td>\n",
              "      <td>Not fleeing</td>\n",
              "      <td>False</td>\n",
              "      <td>Senior citizens</td>\n",
              "      <td>2015</td>\n",
              "    </tr>\n",
              "    <tr>\n",
              "      <th>1</th>\n",
              "      <td>4</td>\n",
              "      <td>Lewis Lee Lembke</td>\n",
              "      <td>2015-01-02</td>\n",
              "      <td>shot</td>\n",
              "      <td>gun</td>\n",
              "      <td>47.0</td>\n",
              "      <td>M</td>\n",
              "      <td>W</td>\n",
              "      <td>Aloha</td>\n",
              "      <td>OR</td>\n",
              "      <td>False</td>\n",
              "      <td>attack</td>\n",
              "      <td>Not fleeing</td>\n",
              "      <td>False</td>\n",
              "      <td>Adult</td>\n",
              "      <td>2015</td>\n",
              "    </tr>\n",
              "    <tr>\n",
              "      <th>2</th>\n",
              "      <td>5</td>\n",
              "      <td>John Paul Quintero</td>\n",
              "      <td>2015-01-03</td>\n",
              "      <td>shot and Tasered</td>\n",
              "      <td>unarmed</td>\n",
              "      <td>23.0</td>\n",
              "      <td>M</td>\n",
              "      <td>H</td>\n",
              "      <td>Wichita</td>\n",
              "      <td>KS</td>\n",
              "      <td>False</td>\n",
              "      <td>other</td>\n",
              "      <td>Not fleeing</td>\n",
              "      <td>False</td>\n",
              "      <td>Youth</td>\n",
              "      <td>2015</td>\n",
              "    </tr>\n",
              "    <tr>\n",
              "      <th>3</th>\n",
              "      <td>8</td>\n",
              "      <td>Matthew Hoffman</td>\n",
              "      <td>2015-01-04</td>\n",
              "      <td>shot</td>\n",
              "      <td>toy weapon</td>\n",
              "      <td>32.0</td>\n",
              "      <td>M</td>\n",
              "      <td>W</td>\n",
              "      <td>San Francisco</td>\n",
              "      <td>CA</td>\n",
              "      <td>True</td>\n",
              "      <td>attack</td>\n",
              "      <td>Not fleeing</td>\n",
              "      <td>False</td>\n",
              "      <td>Youth</td>\n",
              "      <td>2015</td>\n",
              "    </tr>\n",
              "    <tr>\n",
              "      <th>4</th>\n",
              "      <td>9</td>\n",
              "      <td>Michael Rodriguez</td>\n",
              "      <td>2015-01-04</td>\n",
              "      <td>shot</td>\n",
              "      <td>nail gun</td>\n",
              "      <td>39.0</td>\n",
              "      <td>M</td>\n",
              "      <td>H</td>\n",
              "      <td>Evans</td>\n",
              "      <td>CO</td>\n",
              "      <td>False</td>\n",
              "      <td>attack</td>\n",
              "      <td>Not fleeing</td>\n",
              "      <td>False</td>\n",
              "      <td>Adult</td>\n",
              "      <td>2015</td>\n",
              "    </tr>\n",
              "  </tbody>\n",
              "</table>\n",
              "</div>\n",
              "      <button class=\"colab-df-convert\" onclick=\"convertToInteractive('df-a6bae54a-8c11-49e3-903c-d4fdbdaf3eea')\"\n",
              "              title=\"Convert this dataframe to an interactive table.\"\n",
              "              style=\"display:none;\">\n",
              "        \n",
              "  <svg xmlns=\"http://www.w3.org/2000/svg\" height=\"24px\"viewBox=\"0 0 24 24\"\n",
              "       width=\"24px\">\n",
              "    <path d=\"M0 0h24v24H0V0z\" fill=\"none\"/>\n",
              "    <path d=\"M18.56 5.44l.94 2.06.94-2.06 2.06-.94-2.06-.94-.94-2.06-.94 2.06-2.06.94zm-11 1L8.5 8.5l.94-2.06 2.06-.94-2.06-.94L8.5 2.5l-.94 2.06-2.06.94zm10 10l.94 2.06.94-2.06 2.06-.94-2.06-.94-.94-2.06-.94 2.06-2.06.94z\"/><path d=\"M17.41 7.96l-1.37-1.37c-.4-.4-.92-.59-1.43-.59-.52 0-1.04.2-1.43.59L10.3 9.45l-7.72 7.72c-.78.78-.78 2.05 0 2.83L4 21.41c.39.39.9.59 1.41.59.51 0 1.02-.2 1.41-.59l7.78-7.78 2.81-2.81c.8-.78.8-2.07 0-2.86zM5.41 20L4 18.59l7.72-7.72 1.47 1.35L5.41 20z\"/>\n",
              "  </svg>\n",
              "      </button>\n",
              "      \n",
              "  <style>\n",
              "    .colab-df-container {\n",
              "      display:flex;\n",
              "      flex-wrap:wrap;\n",
              "      gap: 12px;\n",
              "    }\n",
              "\n",
              "    .colab-df-convert {\n",
              "      background-color: #E8F0FE;\n",
              "      border: none;\n",
              "      border-radius: 50%;\n",
              "      cursor: pointer;\n",
              "      display: none;\n",
              "      fill: #1967D2;\n",
              "      height: 32px;\n",
              "      padding: 0 0 0 0;\n",
              "      width: 32px;\n",
              "    }\n",
              "\n",
              "    .colab-df-convert:hover {\n",
              "      background-color: #E2EBFA;\n",
              "      box-shadow: 0px 1px 2px rgba(60, 64, 67, 0.3), 0px 1px 3px 1px rgba(60, 64, 67, 0.15);\n",
              "      fill: #174EA6;\n",
              "    }\n",
              "\n",
              "    [theme=dark] .colab-df-convert {\n",
              "      background-color: #3B4455;\n",
              "      fill: #D2E3FC;\n",
              "    }\n",
              "\n",
              "    [theme=dark] .colab-df-convert:hover {\n",
              "      background-color: #434B5C;\n",
              "      box-shadow: 0px 1px 3px 1px rgba(0, 0, 0, 0.15);\n",
              "      filter: drop-shadow(0px 1px 2px rgba(0, 0, 0, 0.3));\n",
              "      fill: #FFFFFF;\n",
              "    }\n",
              "  </style>\n",
              "\n",
              "      <script>\n",
              "        const buttonEl =\n",
              "          document.querySelector('#df-a6bae54a-8c11-49e3-903c-d4fdbdaf3eea button.colab-df-convert');\n",
              "        buttonEl.style.display =\n",
              "          google.colab.kernel.accessAllowed ? 'block' : 'none';\n",
              "\n",
              "        async function convertToInteractive(key) {\n",
              "          const element = document.querySelector('#df-a6bae54a-8c11-49e3-903c-d4fdbdaf3eea');\n",
              "          const dataTable =\n",
              "            await google.colab.kernel.invokeFunction('convertToInteractive',\n",
              "                                                     [key], {});\n",
              "          if (!dataTable) return;\n",
              "\n",
              "          const docLinkHtml = 'Like what you see? Visit the ' +\n",
              "            '<a target=\"_blank\" href=https://colab.research.google.com/notebooks/data_table.ipynb>data table notebook</a>'\n",
              "            + ' to learn more about interactive tables.';\n",
              "          element.innerHTML = '';\n",
              "          dataTable['output_type'] = 'display_data';\n",
              "          await google.colab.output.renderOutput(dataTable, element);\n",
              "          const docLink = document.createElement('div');\n",
              "          docLink.innerHTML = docLinkHtml;\n",
              "          element.appendChild(docLink);\n",
              "        }\n",
              "      </script>\n",
              "    </div>\n",
              "  </div>\n",
              "  "
            ]
          },
          "metadata": {},
          "execution_count": 2
        }
      ],
      "source": [
        "# Load the dataframe \n",
        "\n",
        "from google.colab import drive\n",
        "drive.mount('/content/drive')\n",
        "\n",
        "df = pd.read_csv('/content/drive/MyDrive/AIML/week_2_assignment_output.csv')\n",
        "df.head()\n",
        "\n",
        "# TODO: Code to fill: \n",
        "# 1. '<<__A__>>' --> Path of the csv file"
      ]
    },
    {
      "cell_type": "code",
      "execution_count": 3,
      "id": "f7c7f28b",
      "metadata": {
        "id": "f7c7f28b",
        "colab": {
          "base_uri": "https://localhost:8080/"
        },
        "outputId": "31a0a6d4-004f-499f-b222-5c03aff4e3ba"
      },
      "outputs": [
        {
          "output_type": "execute_result",
          "data": {
            "text/plain": [
              "(4478, 16)"
            ]
          },
          "metadata": {},
          "execution_count": 3
        }
      ],
      "source": [
        "# Check the shape of the dataset\n",
        "df.shape"
      ]
    },
    {
      "cell_type": "code",
      "source": [
        "# Check the datatypes of all the columns\n",
        "df.info()"
      ],
      "metadata": {
        "colab": {
          "base_uri": "https://localhost:8080/"
        },
        "id": "vxb_SK3_wecQ",
        "outputId": "58b1bdc9-c428-4de1-d11a-ea23ebfbd7d5"
      },
      "id": "vxb_SK3_wecQ",
      "execution_count": 4,
      "outputs": [
        {
          "output_type": "stream",
          "name": "stdout",
          "text": [
            "<class 'pandas.core.frame.DataFrame'>\n",
            "RangeIndex: 4478 entries, 0 to 4477\n",
            "Data columns (total 16 columns):\n",
            " #   Column                   Non-Null Count  Dtype  \n",
            "---  ------                   --------------  -----  \n",
            " 0   id                       4478 non-null   int64  \n",
            " 1   name                     4478 non-null   object \n",
            " 2   date                     4478 non-null   object \n",
            " 3   manner_of_death          4478 non-null   object \n",
            " 4   armed                    4230 non-null   object \n",
            " 5   age                      4309 non-null   float64\n",
            " 6   gender                   4473 non-null   object \n",
            " 7   race                     4105 non-null   object \n",
            " 8   city                     4478 non-null   object \n",
            " 9   state                    4478 non-null   object \n",
            " 10  signs_of_mental_illness  4478 non-null   bool   \n",
            " 11  threat_level             4478 non-null   object \n",
            " 12  flee                     4299 non-null   object \n",
            " 13  body_camera              4478 non-null   bool   \n",
            " 14  age_categories           4478 non-null   object \n",
            " 15  year                     4478 non-null   int64  \n",
            "dtypes: bool(2), float64(1), int64(2), object(11)\n",
            "memory usage: 498.7+ KB\n"
          ]
        }
      ]
    },
    {
      "cell_type": "markdown",
      "id": "8340d0e8",
      "metadata": {
        "id": "8340d0e8"
      },
      "source": [
        "### Question: 1 ( 1 Mark )\n",
        "\n",
        "Check and Handle the missing values (NaN) present in each column with the respective methods "
      ]
    },
    {
      "cell_type": "code",
      "execution_count": 5,
      "id": "4c6deb73",
      "metadata": {
        "id": "4c6deb73",
        "colab": {
          "base_uri": "https://localhost:8080/"
        },
        "outputId": "86ccfb13-b0b0-4ca7-fc9f-fd73daa7030c"
      },
      "outputs": [
        {
          "output_type": "execute_result",
          "data": {
            "text/plain": [
              "id                           0\n",
              "name                         0\n",
              "date                         0\n",
              "manner_of_death              0\n",
              "armed                      248\n",
              "age                        169\n",
              "gender                       5\n",
              "race                       373\n",
              "city                         0\n",
              "state                        0\n",
              "signs_of_mental_illness      0\n",
              "threat_level                 0\n",
              "flee                       179\n",
              "body_camera                  0\n",
              "age_categories               0\n",
              "year                         0\n",
              "dtype: int64"
            ]
          },
          "metadata": {},
          "execution_count": 5
        }
      ],
      "source": [
        "# Check the dataframe for missing values in the column before handling\n",
        "df.isnull().sum()\n",
        "\n",
        "# TODO: Code to fill: \n",
        "\n",
        "# 1. '<<__A__>>' --> Use correct method\n",
        "# 2. '<<__B__>>' --> Use correct method\n"
      ]
    },
    {
      "cell_type": "code",
      "source": [
        "# Handle the missing values \n",
        "df['age'].fillna(df['age'].mean(),inplace=True)\n",
        "df['armed'].fillna(df['armed'].mode()[0],inplace=True)\n",
        "df['gender'].fillna(df['gender'].mode()[0],inplace=True)\n",
        "df['race'].fillna(df['race'].mode()[0],inplace=True)\n",
        "df['flee'].fillna(df['flee'].mode()[0],inplace=True)\n",
        "\n",
        "# write your code here to handle missing values for other columns\n",
        "\n",
        "# TODO: Code to fill: \n",
        "\n",
        "# 1. '<<__A__>>' --> Appropriate filling method\n",
        "# 2. '<<__B__>>' --> column_name\n",
        "# 3. '<<__C__>>' --> column_name"
      ],
      "metadata": {
        "id": "xQtkuyrr_W9n"
      },
      "id": "xQtkuyrr_W9n",
      "execution_count": 6,
      "outputs": []
    },
    {
      "cell_type": "code",
      "source": [
        "# Check dataframe after handling missing values \n",
        "df.isnull().sum()\n",
        "\n",
        "# TODO: Code to fill: \n",
        "\n",
        "# 1. '<<__A__>>' --> Use correct method\n",
        "# 2. '<<__B__>>' --> Use correct method"
      ],
      "metadata": {
        "id": "VWjDG6QOP4pc",
        "colab": {
          "base_uri": "https://localhost:8080/"
        },
        "outputId": "b4607622-001b-4ac5-8591-97fbe690121c"
      },
      "id": "VWjDG6QOP4pc",
      "execution_count": 7,
      "outputs": [
        {
          "output_type": "execute_result",
          "data": {
            "text/plain": [
              "id                         0\n",
              "name                       0\n",
              "date                       0\n",
              "manner_of_death            0\n",
              "armed                      0\n",
              "age                        0\n",
              "gender                     0\n",
              "race                       0\n",
              "city                       0\n",
              "state                      0\n",
              "signs_of_mental_illness    0\n",
              "threat_level               0\n",
              "flee                       0\n",
              "body_camera                0\n",
              "age_categories             0\n",
              "year                       0\n",
              "dtype: int64"
            ]
          },
          "metadata": {},
          "execution_count": 7
        }
      ]
    },
    {
      "cell_type": "code",
      "source": [
        "# Converting float to int for age column as age is not required as float\n",
        "df['age'] = df['age'].astype(int)"
      ],
      "metadata": {
        "id": "juISj1YczALY"
      },
      "id": "juISj1YczALY",
      "execution_count": 8,
      "outputs": []
    },
    {
      "cell_type": "code",
      "source": [
        "# Check the datatypes of all the columns after conversion\n",
        "df.info()"
      ],
      "metadata": {
        "colab": {
          "base_uri": "https://localhost:8080/"
        },
        "id": "wUCM7HnjzK9O",
        "outputId": "0e6557b3-9d5b-4a31-aca2-3a4d5deda5b5"
      },
      "id": "wUCM7HnjzK9O",
      "execution_count": 9,
      "outputs": [
        {
          "output_type": "stream",
          "name": "stdout",
          "text": [
            "<class 'pandas.core.frame.DataFrame'>\n",
            "RangeIndex: 4478 entries, 0 to 4477\n",
            "Data columns (total 16 columns):\n",
            " #   Column                   Non-Null Count  Dtype \n",
            "---  ------                   --------------  ----- \n",
            " 0   id                       4478 non-null   int64 \n",
            " 1   name                     4478 non-null   object\n",
            " 2   date                     4478 non-null   object\n",
            " 3   manner_of_death          4478 non-null   object\n",
            " 4   armed                    4478 non-null   object\n",
            " 5   age                      4478 non-null   int64 \n",
            " 6   gender                   4478 non-null   object\n",
            " 7   race                     4478 non-null   object\n",
            " 8   city                     4478 non-null   object\n",
            " 9   state                    4478 non-null   object\n",
            " 10  signs_of_mental_illness  4478 non-null   bool  \n",
            " 11  threat_level             4478 non-null   object\n",
            " 12  flee                     4478 non-null   object\n",
            " 13  body_camera              4478 non-null   bool  \n",
            " 14  age_categories           4478 non-null   object\n",
            " 15  year                     4478 non-null   int64 \n",
            "dtypes: bool(2), int64(3), object(11)\n",
            "memory usage: 498.7+ KB\n"
          ]
        }
      ]
    },
    {
      "cell_type": "code",
      "source": [
        "# Display the Dataframe\n",
        "df"
      ],
      "metadata": {
        "colab": {
          "base_uri": "https://localhost:8080/",
          "height": 641
        },
        "id": "z_OhWfa3x4iB",
        "outputId": "039e562c-6f8f-47aa-c9c7-e3d8dd51e609"
      },
      "id": "z_OhWfa3x4iB",
      "execution_count": 10,
      "outputs": [
        {
          "output_type": "execute_result",
          "data": {
            "text/plain": [
              "        id                      name        date   manner_of_death  \\\n",
              "0        3                Tim Elliot  2015-01-02              shot   \n",
              "1        4          Lewis Lee Lembke  2015-01-02              shot   \n",
              "2        5        John Paul Quintero  2015-01-03  shot and Tasered   \n",
              "3        8           Matthew Hoffman  2015-01-04              shot   \n",
              "4        9         Michael Rodriguez  2015-01-04              shot   \n",
              "...    ...                       ...         ...               ...   \n",
              "4473  4907              Connor Betts  2019-08-04              shot   \n",
              "4474  4909  Robert Clay Wilsford Jr.  2019-08-04              shot   \n",
              "4475  4910                     TK TK  2019-08-05              shot   \n",
              "4476  4914            James Kirkwood  2019-08-05              shot   \n",
              "4477  4916      Marvin Alexis Urbina  2019-08-05              shot   \n",
              "\n",
              "             armed  age gender race            city state  \\\n",
              "0              gun   53      M    A         Shelton    WA   \n",
              "1              gun   47      M    W           Aloha    OR   \n",
              "2          unarmed   23      M    H         Wichita    KS   \n",
              "3       toy weapon   32      M    W   San Francisco    CA   \n",
              "4         nail gun   39      M    H           Evans    CO   \n",
              "...            ...  ...    ...  ...             ...   ...   \n",
              "4473           gun   24      M    W          Dayton    OH   \n",
              "4474           gun   65      M    W      Hanceville    AL   \n",
              "4475  undetermined   36      M    W  Salt Lake City    UT   \n",
              "4476         knife   49      M    B         Memphis    TN   \n",
              "4477       vehicle   19      M    H     Bakersfield    CA   \n",
              "\n",
              "      signs_of_mental_illness  threat_level         flee  body_camera  \\\n",
              "0                        True        attack  Not fleeing        False   \n",
              "1                       False        attack  Not fleeing        False   \n",
              "2                       False         other  Not fleeing        False   \n",
              "3                        True        attack  Not fleeing        False   \n",
              "4                       False        attack  Not fleeing        False   \n",
              "...                       ...           ...          ...          ...   \n",
              "4473                     True        attack  Not fleeing        False   \n",
              "4474                     True        attack  Not fleeing        False   \n",
              "4475                    False  undetermined  Not fleeing         True   \n",
              "4476                    False        attack         Foot        False   \n",
              "4477                    False         other          Car        False   \n",
              "\n",
              "       age_categories  year  \n",
              "0     Senior citizens  2015  \n",
              "1               Adult  2015  \n",
              "2               Youth  2015  \n",
              "3               Youth  2015  \n",
              "4               Adult  2015  \n",
              "...               ...   ...  \n",
              "4473            Youth  2019  \n",
              "4474  Senior citizens  2019  \n",
              "4475  Senior citizens  2019  \n",
              "4476            Adult  2019  \n",
              "4477          Teenage  2019  \n",
              "\n",
              "[4478 rows x 16 columns]"
            ],
            "text/html": [
              "\n",
              "  <div id=\"df-24041506-f9fd-4640-abd7-ec040f27c3aa\">\n",
              "    <div class=\"colab-df-container\">\n",
              "      <div>\n",
              "<style scoped>\n",
              "    .dataframe tbody tr th:only-of-type {\n",
              "        vertical-align: middle;\n",
              "    }\n",
              "\n",
              "    .dataframe tbody tr th {\n",
              "        vertical-align: top;\n",
              "    }\n",
              "\n",
              "    .dataframe thead th {\n",
              "        text-align: right;\n",
              "    }\n",
              "</style>\n",
              "<table border=\"1\" class=\"dataframe\">\n",
              "  <thead>\n",
              "    <tr style=\"text-align: right;\">\n",
              "      <th></th>\n",
              "      <th>id</th>\n",
              "      <th>name</th>\n",
              "      <th>date</th>\n",
              "      <th>manner_of_death</th>\n",
              "      <th>armed</th>\n",
              "      <th>age</th>\n",
              "      <th>gender</th>\n",
              "      <th>race</th>\n",
              "      <th>city</th>\n",
              "      <th>state</th>\n",
              "      <th>signs_of_mental_illness</th>\n",
              "      <th>threat_level</th>\n",
              "      <th>flee</th>\n",
              "      <th>body_camera</th>\n",
              "      <th>age_categories</th>\n",
              "      <th>year</th>\n",
              "    </tr>\n",
              "  </thead>\n",
              "  <tbody>\n",
              "    <tr>\n",
              "      <th>0</th>\n",
              "      <td>3</td>\n",
              "      <td>Tim Elliot</td>\n",
              "      <td>2015-01-02</td>\n",
              "      <td>shot</td>\n",
              "      <td>gun</td>\n",
              "      <td>53</td>\n",
              "      <td>M</td>\n",
              "      <td>A</td>\n",
              "      <td>Shelton</td>\n",
              "      <td>WA</td>\n",
              "      <td>True</td>\n",
              "      <td>attack</td>\n",
              "      <td>Not fleeing</td>\n",
              "      <td>False</td>\n",
              "      <td>Senior citizens</td>\n",
              "      <td>2015</td>\n",
              "    </tr>\n",
              "    <tr>\n",
              "      <th>1</th>\n",
              "      <td>4</td>\n",
              "      <td>Lewis Lee Lembke</td>\n",
              "      <td>2015-01-02</td>\n",
              "      <td>shot</td>\n",
              "      <td>gun</td>\n",
              "      <td>47</td>\n",
              "      <td>M</td>\n",
              "      <td>W</td>\n",
              "      <td>Aloha</td>\n",
              "      <td>OR</td>\n",
              "      <td>False</td>\n",
              "      <td>attack</td>\n",
              "      <td>Not fleeing</td>\n",
              "      <td>False</td>\n",
              "      <td>Adult</td>\n",
              "      <td>2015</td>\n",
              "    </tr>\n",
              "    <tr>\n",
              "      <th>2</th>\n",
              "      <td>5</td>\n",
              "      <td>John Paul Quintero</td>\n",
              "      <td>2015-01-03</td>\n",
              "      <td>shot and Tasered</td>\n",
              "      <td>unarmed</td>\n",
              "      <td>23</td>\n",
              "      <td>M</td>\n",
              "      <td>H</td>\n",
              "      <td>Wichita</td>\n",
              "      <td>KS</td>\n",
              "      <td>False</td>\n",
              "      <td>other</td>\n",
              "      <td>Not fleeing</td>\n",
              "      <td>False</td>\n",
              "      <td>Youth</td>\n",
              "      <td>2015</td>\n",
              "    </tr>\n",
              "    <tr>\n",
              "      <th>3</th>\n",
              "      <td>8</td>\n",
              "      <td>Matthew Hoffman</td>\n",
              "      <td>2015-01-04</td>\n",
              "      <td>shot</td>\n",
              "      <td>toy weapon</td>\n",
              "      <td>32</td>\n",
              "      <td>M</td>\n",
              "      <td>W</td>\n",
              "      <td>San Francisco</td>\n",
              "      <td>CA</td>\n",
              "      <td>True</td>\n",
              "      <td>attack</td>\n",
              "      <td>Not fleeing</td>\n",
              "      <td>False</td>\n",
              "      <td>Youth</td>\n",
              "      <td>2015</td>\n",
              "    </tr>\n",
              "    <tr>\n",
              "      <th>4</th>\n",
              "      <td>9</td>\n",
              "      <td>Michael Rodriguez</td>\n",
              "      <td>2015-01-04</td>\n",
              "      <td>shot</td>\n",
              "      <td>nail gun</td>\n",
              "      <td>39</td>\n",
              "      <td>M</td>\n",
              "      <td>H</td>\n",
              "      <td>Evans</td>\n",
              "      <td>CO</td>\n",
              "      <td>False</td>\n",
              "      <td>attack</td>\n",
              "      <td>Not fleeing</td>\n",
              "      <td>False</td>\n",
              "      <td>Adult</td>\n",
              "      <td>2015</td>\n",
              "    </tr>\n",
              "    <tr>\n",
              "      <th>...</th>\n",
              "      <td>...</td>\n",
              "      <td>...</td>\n",
              "      <td>...</td>\n",
              "      <td>...</td>\n",
              "      <td>...</td>\n",
              "      <td>...</td>\n",
              "      <td>...</td>\n",
              "      <td>...</td>\n",
              "      <td>...</td>\n",
              "      <td>...</td>\n",
              "      <td>...</td>\n",
              "      <td>...</td>\n",
              "      <td>...</td>\n",
              "      <td>...</td>\n",
              "      <td>...</td>\n",
              "      <td>...</td>\n",
              "    </tr>\n",
              "    <tr>\n",
              "      <th>4473</th>\n",
              "      <td>4907</td>\n",
              "      <td>Connor Betts</td>\n",
              "      <td>2019-08-04</td>\n",
              "      <td>shot</td>\n",
              "      <td>gun</td>\n",
              "      <td>24</td>\n",
              "      <td>M</td>\n",
              "      <td>W</td>\n",
              "      <td>Dayton</td>\n",
              "      <td>OH</td>\n",
              "      <td>True</td>\n",
              "      <td>attack</td>\n",
              "      <td>Not fleeing</td>\n",
              "      <td>False</td>\n",
              "      <td>Youth</td>\n",
              "      <td>2019</td>\n",
              "    </tr>\n",
              "    <tr>\n",
              "      <th>4474</th>\n",
              "      <td>4909</td>\n",
              "      <td>Robert Clay Wilsford Jr.</td>\n",
              "      <td>2019-08-04</td>\n",
              "      <td>shot</td>\n",
              "      <td>gun</td>\n",
              "      <td>65</td>\n",
              "      <td>M</td>\n",
              "      <td>W</td>\n",
              "      <td>Hanceville</td>\n",
              "      <td>AL</td>\n",
              "      <td>True</td>\n",
              "      <td>attack</td>\n",
              "      <td>Not fleeing</td>\n",
              "      <td>False</td>\n",
              "      <td>Senior citizens</td>\n",
              "      <td>2019</td>\n",
              "    </tr>\n",
              "    <tr>\n",
              "      <th>4475</th>\n",
              "      <td>4910</td>\n",
              "      <td>TK TK</td>\n",
              "      <td>2019-08-05</td>\n",
              "      <td>shot</td>\n",
              "      <td>undetermined</td>\n",
              "      <td>36</td>\n",
              "      <td>M</td>\n",
              "      <td>W</td>\n",
              "      <td>Salt Lake City</td>\n",
              "      <td>UT</td>\n",
              "      <td>False</td>\n",
              "      <td>undetermined</td>\n",
              "      <td>Not fleeing</td>\n",
              "      <td>True</td>\n",
              "      <td>Senior citizens</td>\n",
              "      <td>2019</td>\n",
              "    </tr>\n",
              "    <tr>\n",
              "      <th>4476</th>\n",
              "      <td>4914</td>\n",
              "      <td>James Kirkwood</td>\n",
              "      <td>2019-08-05</td>\n",
              "      <td>shot</td>\n",
              "      <td>knife</td>\n",
              "      <td>49</td>\n",
              "      <td>M</td>\n",
              "      <td>B</td>\n",
              "      <td>Memphis</td>\n",
              "      <td>TN</td>\n",
              "      <td>False</td>\n",
              "      <td>attack</td>\n",
              "      <td>Foot</td>\n",
              "      <td>False</td>\n",
              "      <td>Adult</td>\n",
              "      <td>2019</td>\n",
              "    </tr>\n",
              "    <tr>\n",
              "      <th>4477</th>\n",
              "      <td>4916</td>\n",
              "      <td>Marvin Alexis Urbina</td>\n",
              "      <td>2019-08-05</td>\n",
              "      <td>shot</td>\n",
              "      <td>vehicle</td>\n",
              "      <td>19</td>\n",
              "      <td>M</td>\n",
              "      <td>H</td>\n",
              "      <td>Bakersfield</td>\n",
              "      <td>CA</td>\n",
              "      <td>False</td>\n",
              "      <td>other</td>\n",
              "      <td>Car</td>\n",
              "      <td>False</td>\n",
              "      <td>Teenage</td>\n",
              "      <td>2019</td>\n",
              "    </tr>\n",
              "  </tbody>\n",
              "</table>\n",
              "<p>4478 rows × 16 columns</p>\n",
              "</div>\n",
              "      <button class=\"colab-df-convert\" onclick=\"convertToInteractive('df-24041506-f9fd-4640-abd7-ec040f27c3aa')\"\n",
              "              title=\"Convert this dataframe to an interactive table.\"\n",
              "              style=\"display:none;\">\n",
              "        \n",
              "  <svg xmlns=\"http://www.w3.org/2000/svg\" height=\"24px\"viewBox=\"0 0 24 24\"\n",
              "       width=\"24px\">\n",
              "    <path d=\"M0 0h24v24H0V0z\" fill=\"none\"/>\n",
              "    <path d=\"M18.56 5.44l.94 2.06.94-2.06 2.06-.94-2.06-.94-.94-2.06-.94 2.06-2.06.94zm-11 1L8.5 8.5l.94-2.06 2.06-.94-2.06-.94L8.5 2.5l-.94 2.06-2.06.94zm10 10l.94 2.06.94-2.06 2.06-.94-2.06-.94-.94-2.06-.94 2.06-2.06.94z\"/><path d=\"M17.41 7.96l-1.37-1.37c-.4-.4-.92-.59-1.43-.59-.52 0-1.04.2-1.43.59L10.3 9.45l-7.72 7.72c-.78.78-.78 2.05 0 2.83L4 21.41c.39.39.9.59 1.41.59.51 0 1.02-.2 1.41-.59l7.78-7.78 2.81-2.81c.8-.78.8-2.07 0-2.86zM5.41 20L4 18.59l7.72-7.72 1.47 1.35L5.41 20z\"/>\n",
              "  </svg>\n",
              "      </button>\n",
              "      \n",
              "  <style>\n",
              "    .colab-df-container {\n",
              "      display:flex;\n",
              "      flex-wrap:wrap;\n",
              "      gap: 12px;\n",
              "    }\n",
              "\n",
              "    .colab-df-convert {\n",
              "      background-color: #E8F0FE;\n",
              "      border: none;\n",
              "      border-radius: 50%;\n",
              "      cursor: pointer;\n",
              "      display: none;\n",
              "      fill: #1967D2;\n",
              "      height: 32px;\n",
              "      padding: 0 0 0 0;\n",
              "      width: 32px;\n",
              "    }\n",
              "\n",
              "    .colab-df-convert:hover {\n",
              "      background-color: #E2EBFA;\n",
              "      box-shadow: 0px 1px 2px rgba(60, 64, 67, 0.3), 0px 1px 3px 1px rgba(60, 64, 67, 0.15);\n",
              "      fill: #174EA6;\n",
              "    }\n",
              "\n",
              "    [theme=dark] .colab-df-convert {\n",
              "      background-color: #3B4455;\n",
              "      fill: #D2E3FC;\n",
              "    }\n",
              "\n",
              "    [theme=dark] .colab-df-convert:hover {\n",
              "      background-color: #434B5C;\n",
              "      box-shadow: 0px 1px 3px 1px rgba(0, 0, 0, 0.15);\n",
              "      filter: drop-shadow(0px 1px 2px rgba(0, 0, 0, 0.3));\n",
              "      fill: #FFFFFF;\n",
              "    }\n",
              "  </style>\n",
              "\n",
              "      <script>\n",
              "        const buttonEl =\n",
              "          document.querySelector('#df-24041506-f9fd-4640-abd7-ec040f27c3aa button.colab-df-convert');\n",
              "        buttonEl.style.display =\n",
              "          google.colab.kernel.accessAllowed ? 'block' : 'none';\n",
              "\n",
              "        async function convertToInteractive(key) {\n",
              "          const element = document.querySelector('#df-24041506-f9fd-4640-abd7-ec040f27c3aa');\n",
              "          const dataTable =\n",
              "            await google.colab.kernel.invokeFunction('convertToInteractive',\n",
              "                                                     [key], {});\n",
              "          if (!dataTable) return;\n",
              "\n",
              "          const docLinkHtml = 'Like what you see? Visit the ' +\n",
              "            '<a target=\"_blank\" href=https://colab.research.google.com/notebooks/data_table.ipynb>data table notebook</a>'\n",
              "            + ' to learn more about interactive tables.';\n",
              "          element.innerHTML = '';\n",
              "          dataTable['output_type'] = 'display_data';\n",
              "          await google.colab.output.renderOutput(dataTable, element);\n",
              "          const docLink = document.createElement('div');\n",
              "          docLink.innerHTML = docLinkHtml;\n",
              "          element.appendChild(docLink);\n",
              "        }\n",
              "      </script>\n",
              "    </div>\n",
              "  </div>\n",
              "  "
            ]
          },
          "metadata": {},
          "execution_count": 10
        }
      ]
    },
    {
      "cell_type": "markdown",
      "id": "a4efbe66",
      "metadata": {
        "id": "a4efbe66"
      },
      "source": [
        "### Question: 2 (1 Mark )\n",
        "Handle the outliers present in the age column "
      ]
    },
    {
      "cell_type": "code",
      "source": [
        "# Display box plot before handling outliers in the 'age' column\n",
        "plt.figure(figsize=(8, 6))\n",
        "sns.boxplot(data=df, x='age')\n",
        "plt.title(\"Box Plot of Age (Before Handling Outliers)\")\n",
        "plt.ylabel(\"Age\")\n",
        "plt.show()\n",
        "\n",
        "# TODO: Code to fill: \n",
        "\n",
        "# 1. '<<__A__>>' --> Display the box plot before handling outliers in the age column"
      ],
      "metadata": {
        "id": "9Nrr8Ki4UBzy",
        "colab": {
          "base_uri": "https://localhost:8080/",
          "height": 564
        },
        "outputId": "55f4d954-2457-4211-dd93-2e34973a93c8"
      },
      "id": "9Nrr8Ki4UBzy",
      "execution_count": 11,
      "outputs": [
        {
          "output_type": "display_data",
          "data": {
            "text/plain": [
              "<Figure size 800x600 with 1 Axes>"
            ],
            "image/png": "[encoded data removed]"
          },
          "metadata": {}
        }
      ]
    },
    {
      "cell_type": "code",
      "execution_count": 12,
      "metadata": {
        "id": "a6d96152"
      },
      "outputs": [],
      "source": [
        "# Quantile 1 of age column (25 percentage)\n",
        "Q1 = df['age'].quantile(0.25)\n",
        "# Quantile 3 of age column (75 percentage)\n",
        "Q3 = df['age'].quantile(0.75)"
      ],
      "id": "a6d96152"
    },
    {
      "cell_type": "code",
      "execution_count": 13,
      "metadata": {
        "id": "c25e9091",
        "colab": {
          "base_uri": "https://localhost:8080/"
        },
        "outputId": "837e3759-4c56-46ed-88cf-5041feeb5fb1"
      },
      "outputs": [
        {
          "output_type": "execute_result",
          "data": {
            "text/plain": [
              "18.0"
            ]
          },
          "metadata": {},
          "execution_count": 13
        }
      ],
      "source": [
        "# Inter Quartile Range\n",
        "IQR = Q3 - Q1\n",
        "IQR"
      ],
      "id": "c25e9091"
    },
    {
      "cell_type": "code",
      "execution_count": 14,
      "metadata": {
        "id": "3cd435d2",
        "colab": {
          "base_uri": "https://localhost:8080/"
        },
        "outputId": "95c610f0-994f-4956-aee7-ce58eadde5eb"
      },
      "outputs": [
        {
          "output_type": "stream",
          "name": "stdout",
          "text": [
            "72.0\n",
            "0.0\n"
          ]
        }
      ],
      "source": [
        "# Outliers present in upper case\n",
        "upper_case = Q3 + (1.5*IQR)\n",
        "print(upper_case)\n",
        "# Outliers present in lower case\n",
        "lower_case = Q1 - (1.5*IQR)\n",
        "print(lower_case)"
      ],
      "id": "3cd435d2"
    },
    {
      "cell_type": "code",
      "source": [
        "# Loop through the each data record in the age column and append a data to the outliers list variable \n",
        "outliers = []\n",
        "for i in df['age']: \n",
        "  if i < lower_case or i > upper_case:  # if any data point in the age column less than lower case or any data point greater than upper case will be an outlier\n",
        "    outliers.append(i)"
      ],
      "metadata": {
        "id": "_bVyA3WQhSfB"
      },
      "id": "_bVyA3WQhSfB",
      "execution_count": 15,
      "outputs": []
    },
    {
      "cell_type": "code",
      "source": [
        "print(outliers)"
      ],
      "metadata": {
        "id": "H7dxmFtpWGXk",
        "colab": {
          "base_uri": "https://localhost:8080/"
        },
        "outputId": "decfee16-adf5-4567-b1bb-e59c2340ae8c"
      },
      "id": "H7dxmFtpWGXk",
      "execution_count": 16,
      "outputs": [
        {
          "output_type": "stream",
          "name": "stdout",
          "text": [
            "[75, 74, 77, 83, 76, 86, 76, 77, 76, 76, 80, 82, 86, 76, 83, 73, 91, 73, 79, 74, 75, 82, 76, 78, 84, 84, 81, 89, 73, 77, 76, 84, 81, 80, 77, 76, 74, 76, 73]\n"
          ]
        }
      ]
    },
    {
      "cell_type": "code",
      "source": [
        "# Remove the outliers in age column\n",
        "df['age'] = df['age'].apply(lambda x: x if lower_case <= x <= upper_case else np.nan)\n",
        "\n",
        "# TODO: Code to fill: \n",
        "\n",
        "# 1. '<<__B__>>' --> write the your command to remove outliers outside upper case and lower case"
      ],
      "metadata": {
        "id": "6vaGoy85XhQi"
      },
      "id": "6vaGoy85XhQi",
      "execution_count": 17,
      "outputs": []
    },
    {
      "cell_type": "code",
      "source": [
        "# Display the box plot after handling outliers in the age column\n",
        "plt.figure(figsize=(8, 6))\n",
        "sns.boxplot(data=df, x='age')\n",
        "plt.title(\"Box Plot of Age (After Handling Outliers)\")\n",
        "plt.xlabel(\"Age\")\n",
        "plt.show()\n",
        "\n",
        "# TODO: Code to fill: \n",
        "\n",
        "# 1  '<<__C__>>' --> Display the box plot after handling outliers in the age column"
      ],
      "metadata": {
        "id": "o4dxsnxYbinT",
        "colab": {
          "base_uri": "https://localhost:8080/",
          "height": 564
        },
        "outputId": "5df79e17-192d-4eef-e9c8-baf97cf89bb3"
      },
      "id": "o4dxsnxYbinT",
      "execution_count": 18,
      "outputs": [
        {
          "output_type": "display_data",
          "data": {
            "text/plain": [
              "<Figure size 800x600 with 1 Axes>"
            ],
            "image/png": "[encoded data removed]"
          },
          "metadata": {}
        }
      ]
    },
    {
      "cell_type": "markdown",
      "id": "195e585a",
      "metadata": {
        "id": "195e585a"
      },
      "source": [
        "### Question: 3 ( 1 Mark )\n",
        "Plot a bar graph which tells most repeated weapons used to attack the people  "
      ]
    },
    {
      "cell_type": "code",
      "source": [
        "# Get the value count of armed column\n",
        "armed = df.armed.value_counts()\n",
        "# set the plot size\n",
        "plt.figure(figsize=(10, 6))\n",
        "# Create a bar plot using above variable by filtering upto 7 rows \n",
        "sns.barplot(x=armed[:7].index,y=armed[:7].values)\n",
        "plt.ylabel('Count')\n",
        "plt.xlabel('Weapon')\n",
        "plt.title('Most Repeated Weapons Used in Attacks', fontsize=15, color='blue')\n",
        "\n",
        "# TODO: Code to fill: \n",
        "\n",
        "# 1. '<<__A__>>' --> Set the plot size\n",
        "# 2. '<<__B__>>' --> set a name for y label\n",
        "# 3. '<<__C__>>' --> set a name for x label\n",
        "# 4. '<<__D__>>' --> set a title for the graph with a  fontsize 15 in the colour of blue"
      ],
      "metadata": {
        "id": "nyI9VIXrb197",
        "colab": {
          "base_uri": "https://localhost:8080/",
          "height": 583
        },
        "outputId": "bec264b3-1cc0-4d43-f72d-47885d6e9599"
      },
      "id": "nyI9VIXrb197",
      "execution_count": 19,
      "outputs": [
        {
          "output_type": "execute_result",
          "data": {
            "text/plain": [
              "Text(0.5, 1.0, 'Most Repeated Weapons Used in Attacks')"
            ]
          },
          "metadata": {},
          "execution_count": 19
        },
        {
          "output_type": "display_data",
          "data": {
            "text/plain": [
              "<Figure size 1000x600 with 1 Axes>"
            ],
            "image/png": "[encoded data removed]"
          },
          "metadata": {}
        }
      ]
    },
    {
      "cell_type": "markdown",
      "id": "be08780a",
      "metadata": {
        "id": "be08780a"
      },
      "source": [
        "### Question: 4 ( 2 Marks )\n",
        "Generate a bar plot to identify days in which the count of attacks are reported most "
      ]
    },
    {
      "cell_type": "code",
      "source": [
        "# Create a new columns day, month, year using date column with the help of pandas to_datetime method\n",
        "df['day'] = pd.to_datetime(df['date']).dt.day\n",
        "df['month'] = pd.to_datetime(df['date']).dt.month\n",
        "df['year'] = pd.to_datetime(df['date']).dt.year"
      ],
      "metadata": {
        "id": "_wg5L08ocZff"
      },
      "id": "_wg5L08ocZff",
      "execution_count": 20,
      "outputs": []
    },
    {
      "cell_type": "code",
      "source": [
        "# Display the Dataframe after adding new columns\n",
        "df"
      ],
      "metadata": {
        "colab": {
          "base_uri": "https://localhost:8080/",
          "height": 641
        },
        "id": "1WzyGO79189d",
        "outputId": "04e39c4d-59ab-4b51-89e4-d828dd8edc9e"
      },
      "id": "1WzyGO79189d",
      "execution_count": 21,
      "outputs": [
        {
          "output_type": "execute_result",
          "data": {
            "text/plain": [
              "        id                      name        date   manner_of_death  \\\n",
              "0        3                Tim Elliot  2015-01-02              shot   \n",
              "1        4          Lewis Lee Lembke  2015-01-02              shot   \n",
              "2        5        John Paul Quintero  2015-01-03  shot and Tasered   \n",
              "3        8           Matthew Hoffman  2015-01-04              shot   \n",
              "4        9         Michael Rodriguez  2015-01-04              shot   \n",
              "...    ...                       ...         ...               ...   \n",
              "4473  4907              Connor Betts  2019-08-04              shot   \n",
              "4474  4909  Robert Clay Wilsford Jr.  2019-08-04              shot   \n",
              "4475  4910                     TK TK  2019-08-05              shot   \n",
              "4476  4914            James Kirkwood  2019-08-05              shot   \n",
              "4477  4916      Marvin Alexis Urbina  2019-08-05              shot   \n",
              "\n",
              "             armed   age gender race            city state  \\\n",
              "0              gun  53.0      M    A         Shelton    WA   \n",
              "1              gun  47.0      M    W           Aloha    OR   \n",
              "2          unarmed  23.0      M    H         Wichita    KS   \n",
              "3       toy weapon  32.0      M    W   San Francisco    CA   \n",
              "4         nail gun  39.0      M    H           Evans    CO   \n",
              "...            ...   ...    ...  ...             ...   ...   \n",
              "4473           gun  24.0      M    W          Dayton    OH   \n",
              "4474           gun  65.0      M    W      Hanceville    AL   \n",
              "4475  undetermined  36.0      M    W  Salt Lake City    UT   \n",
              "4476         knife  49.0      M    B         Memphis    TN   \n",
              "4477       vehicle  19.0      M    H     Bakersfield    CA   \n",
              "\n",
              "      signs_of_mental_illness  threat_level         flee  body_camera  \\\n",
              "0                        True        attack  Not fleeing        False   \n",
              "1                       False        attack  Not fleeing        False   \n",
              "2                       False         other  Not fleeing        False   \n",
              "3                        True        attack  Not fleeing        False   \n",
              "4                       False        attack  Not fleeing        False   \n",
              "...                       ...           ...          ...          ...   \n",
              "4473                     True        attack  Not fleeing        False   \n",
              "4474                     True        attack  Not fleeing        False   \n",
              "4475                    False  undetermined  Not fleeing         True   \n",
              "4476                    False        attack         Foot        False   \n",
              "4477                    False         other          Car        False   \n",
              "\n",
              "       age_categories  year  day  month  \n",
              "0     Senior citizens  2015    2      1  \n",
              "1               Adult  2015    2      1  \n",
              "2               Youth  2015    3      1  \n",
              "3               Youth  2015    4      1  \n",
              "4               Adult  2015    4      1  \n",
              "...               ...   ...  ...    ...  \n",
              "4473            Youth  2019    4      8  \n",
              "4474  Senior citizens  2019    4      8  \n",
              "4475  Senior citizens  2019    5      8  \n",
              "4476            Adult  2019    5      8  \n",
              "4477          Teenage  2019    5      8  \n",
              "\n",
              "[4478 rows x 18 columns]"
            ],
            "text/html": [
              "\n",
              "  <div id=\"df-5a2f3ab0-bd64-4010-968e-2e274ee0300f\">\n",
              "    <div class=\"colab-df-container\">\n",
              "      <div>\n",
              "<style scoped>\n",
              "    .dataframe tbody tr th:only-of-type {\n",
              "        vertical-align: middle;\n",
              "    }\n",
              "\n",
              "    .dataframe tbody tr th {\n",
              "        vertical-align: top;\n",
              "    }\n",
              "\n",
              "    .dataframe thead th {\n",
              "        text-align: right;\n",
              "    }\n",
              "</style>\n",
              "<table border=\"1\" class=\"dataframe\">\n",
              "  <thead>\n",
              "    <tr style=\"text-align: right;\">\n",
              "      <th></th>\n",
              "      <th>id</th>\n",
              "      <th>name</th>\n",
              "      <th>date</th>\n",
              "      <th>manner_of_death</th>\n",
              "      <th>armed</th>\n",
              "      <th>age</th>\n",
              "      <th>gender</th>\n",
              "      <th>race</th>\n",
              "      <th>city</th>\n",
              "      <th>state</th>\n",
              "      <th>signs_of_mental_illness</th>\n",
              "      <th>threat_level</th>\n",
              "      <th>flee</th>\n",
              "      <th>body_camera</th>\n",
              "      <th>age_categories</th>\n",
              "      <th>year</th>\n",
              "      <th>day</th>\n",
              "      <th>month</th>\n",
              "    </tr>\n",
              "  </thead>\n",
              "  <tbody>\n",
              "    <tr>\n",
              "      <th>0</th>\n",
              "      <td>3</td>\n",
              "      <td>Tim Elliot</td>\n",
              "      <td>2015-01-02</td>\n",
              "      <td>shot</td>\n",
              "      <td>gun</td>\n",
              "      <td>53.0</td>\n",
              "      <td>M</td>\n",
              "      <td>A</td>\n",
              "      <td>Shelton</td>\n",
              "      <td>WA</td>\n",
              "      <td>True</td>\n",
              "      <td>attack</td>\n",
              "      <td>Not fleeing</td>\n",
              "      <td>False</td>\n",
              "      <td>Senior citizens</td>\n",
              "      <td>2015</td>\n",
              "      <td>2</td>\n",
              "      <td>1</td>\n",
              "    </tr>\n",
              "    <tr>\n",
              "      <th>1</th>\n",
              "      <td>4</td>\n",
              "      <td>Lewis Lee Lembke</td>\n",
              "      <td>2015-01-02</td>\n",
              "      <td>shot</td>\n",
              "      <td>gun</td>\n",
              "      <td>47.0</td>\n",
              "      <td>M</td>\n",
              "      <td>W</td>\n",
              "      <td>Aloha</td>\n",
              "      <td>OR</td>\n",
              "      <td>False</td>\n",
              "      <td>attack</td>\n",
              "      <td>Not fleeing</td>\n",
              "      <td>False</td>\n",
              "      <td>Adult</td>\n",
              "      <td>2015</td>\n",
              "      <td>2</td>\n",
              "      <td>1</td>\n",
              "    </tr>\n",
              "    <tr>\n",
              "      <th>2</th>\n",
              "      <td>5</td>\n",
              "      <td>John Paul Quintero</td>\n",
              "      <td>2015-01-03</td>\n",
              "      <td>shot and Tasered</td>\n",
              "      <td>unarmed</td>\n",
              "      <td>23.0</td>\n",
              "      <td>M</td>\n",
              "      <td>H</td>\n",
              "      <td>Wichita</td>\n",
              "      <td>KS</td>\n",
              "      <td>False</td>\n",
              "      <td>other</td>\n",
              "      <td>Not fleeing</td>\n",
              "      <td>False</td>\n",
              "      <td>Youth</td>\n",
              "      <td>2015</td>\n",
              "      <td>3</td>\n",
              "      <td>1</td>\n",
              "    </tr>\n",
              "    <tr>\n",
              "      <th>3</th>\n",
              "      <td>8</td>\n",
              "      <td>Matthew Hoffman</td>\n",
              "      <td>2015-01-04</td>\n",
              "      <td>shot</td>\n",
              "      <td>toy weapon</td>\n",
              "      <td>32.0</td>\n",
              "      <td>M</td>\n",
              "      <td>W</td>\n",
              "      <td>San Francisco</td>\n",
              "      <td>CA</td>\n",
              "      <td>True</td>\n",
              "      <td>attack</td>\n",
              "      <td>Not fleeing</td>\n",
              "      <td>False</td>\n",
              "      <td>Youth</td>\n",
              "      <td>2015</td>\n",
              "      <td>4</td>\n",
              "      <td>1</td>\n",
              "    </tr>\n",
              "    <tr>\n",
              "      <th>4</th>\n",
              "      <td>9</td>\n",
              "      <td>Michael Rodriguez</td>\n",
              "      <td>2015-01-04</td>\n",
              "      <td>shot</td>\n",
              "      <td>nail gun</td>\n",
              "      <td>39.0</td>\n",
              "      <td>M</td>\n",
              "      <td>H</td>\n",
              "      <td>Evans</td>\n",
              "      <td>CO</td>\n",
              "      <td>False</td>\n",
              "      <td>attack</td>\n",
              "      <td>Not fleeing</td>\n",
              "      <td>False</td>\n",
              "      <td>Adult</td>\n",
              "      <td>2015</td>\n",
              "      <td>4</td>\n",
              "      <td>1</td>\n",
              "    </tr>\n",
              "    <tr>\n",
              "      <th>...</th>\n",
              "      <td>...</td>\n",
              "      <td>...</td>\n",
              "      <td>...</td>\n",
              "      <td>...</td>\n",
              "      <td>...</td>\n",
              "      <td>...</td>\n",
              "      <td>...</td>\n",
              "      <td>...</td>\n",
              "      <td>...</td>\n",
              "      <td>...</td>\n",
              "      <td>...</td>\n",
              "      <td>...</td>\n",
              "      <td>...</td>\n",
              "      <td>...</td>\n",
              "      <td>...</td>\n",
              "      <td>...</td>\n",
              "      <td>...</td>\n",
              "      <td>...</td>\n",
              "    </tr>\n",
              "    <tr>\n",
              "      <th>4473</th>\n",
              "      <td>4907</td>\n",
              "      <td>Connor Betts</td>\n",
              "      <td>2019-08-04</td>\n",
              "      <td>shot</td>\n",
              "      <td>gun</td>\n",
              "      <td>24.0</td>\n",
              "      <td>M</td>\n",
              "      <td>W</td>\n",
              "      <td>Dayton</td>\n",
              "      <td>OH</td>\n",
              "      <td>True</td>\n",
              "      <td>attack</td>\n",
              "      <td>Not fleeing</td>\n",
              "      <td>False</td>\n",
              "      <td>Youth</td>\n",
              "      <td>2019</td>\n",
              "      <td>4</td>\n",
              "      <td>8</td>\n",
              "    </tr>\n",
              "    <tr>\n",
              "      <th>4474</th>\n",
              "      <td>4909</td>\n",
              "      <td>Robert Clay Wilsford Jr.</td>\n",
              "      <td>2019-08-04</td>\n",
              "      <td>shot</td>\n",
              "      <td>gun</td>\n",
              "      <td>65.0</td>\n",
              "      <td>M</td>\n",
              "      <td>W</td>\n",
              "      <td>Hanceville</td>\n",
              "      <td>AL</td>\n",
              "      <td>True</td>\n",
              "      <td>attack</td>\n",
              "      <td>Not fleeing</td>\n",
              "      <td>False</td>\n",
              "      <td>Senior citizens</td>\n",
              "      <td>2019</td>\n",
              "      <td>4</td>\n",
              "      <td>8</td>\n",
              "    </tr>\n",
              "    <tr>\n",
              "      <th>4475</th>\n",
              "      <td>4910</td>\n",
              "      <td>TK TK</td>\n",
              "      <td>2019-08-05</td>\n",
              "      <td>shot</td>\n",
              "      <td>undetermined</td>\n",
              "      <td>36.0</td>\n",
              "      <td>M</td>\n",
              "      <td>W</td>\n",
              "      <td>Salt Lake City</td>\n",
              "      <td>UT</td>\n",
              "      <td>False</td>\n",
              "      <td>undetermined</td>\n",
              "      <td>Not fleeing</td>\n",
              "      <td>True</td>\n",
              "      <td>Senior citizens</td>\n",
              "      <td>2019</td>\n",
              "      <td>5</td>\n",
              "      <td>8</td>\n",
              "    </tr>\n",
              "    <tr>\n",
              "      <th>4476</th>\n",
              "      <td>4914</td>\n",
              "      <td>James Kirkwood</td>\n",
              "      <td>2019-08-05</td>\n",
              "      <td>shot</td>\n",
              "      <td>knife</td>\n",
              "      <td>49.0</td>\n",
              "      <td>M</td>\n",
              "      <td>B</td>\n",
              "      <td>Memphis</td>\n",
              "      <td>TN</td>\n",
              "      <td>False</td>\n",
              "      <td>attack</td>\n",
              "      <td>Foot</td>\n",
              "      <td>False</td>\n",
              "      <td>Adult</td>\n",
              "      <td>2019</td>\n",
              "      <td>5</td>\n",
              "      <td>8</td>\n",
              "    </tr>\n",
              "    <tr>\n",
              "      <th>4477</th>\n",
              "      <td>4916</td>\n",
              "      <td>Marvin Alexis Urbina</td>\n",
              "      <td>2019-08-05</td>\n",
              "      <td>shot</td>\n",
              "      <td>vehicle</td>\n",
              "      <td>19.0</td>\n",
              "      <td>M</td>\n",
              "      <td>H</td>\n",
              "      <td>Bakersfield</td>\n",
              "      <td>CA</td>\n",
              "      <td>False</td>\n",
              "      <td>other</td>\n",
              "      <td>Car</td>\n",
              "      <td>False</td>\n",
              "      <td>Teenage</td>\n",
              "      <td>2019</td>\n",
              "      <td>5</td>\n",
              "      <td>8</td>\n",
              "    </tr>\n",
              "  </tbody>\n",
              "</table>\n",
              "<p>4478 rows × 18 columns</p>\n",
              "</div>\n",
              "      <button class=\"colab-df-convert\" onclick=\"convertToInteractive('df-5a2f3ab0-bd64-4010-968e-2e274ee0300f')\"\n",
              "              title=\"Convert this dataframe to an interactive table.\"\n",
              "              style=\"display:none;\">\n",
              "        \n",
              "  <svg xmlns=\"http://www.w3.org/2000/svg\" height=\"24px\"viewBox=\"0 0 24 24\"\n",
              "       width=\"24px\">\n",
              "    <path d=\"M0 0h24v24H0V0z\" fill=\"none\"/>\n",
              "    <path d=\"M18.56 5.44l.94 2.06.94-2.06 2.06-.94-2.06-.94-.94-2.06-.94 2.06-2.06.94zm-11 1L8.5 8.5l.94-2.06 2.06-.94-2.06-.94L8.5 2.5l-.94 2.06-2.06.94zm10 10l.94 2.06.94-2.06 2.06-.94-2.06-.94-.94-2.06-.94 2.06-2.06.94z\"/><path d=\"M17.41 7.96l-1.37-1.37c-.4-.4-.92-.59-1.43-.59-.52 0-1.04.2-1.43.59L10.3 9.45l-7.72 7.72c-.78.78-.78 2.05 0 2.83L4 21.41c.39.39.9.59 1.41.59.51 0 1.02-.2 1.41-.59l7.78-7.78 2.81-2.81c.8-.78.8-2.07 0-2.86zM5.41 20L4 18.59l7.72-7.72 1.47 1.35L5.41 20z\"/>\n",
              "  </svg>\n",
              "      </button>\n",
              "      \n",
              "  <style>\n",
              "    .colab-df-container {\n",
              "      display:flex;\n",
              "      flex-wrap:wrap;\n",
              "      gap: 12px;\n",
              "    }\n",
              "\n",
              "    .colab-df-convert {\n",
              "      background-color: #E8F0FE;\n",
              "      border: none;\n",
              "      border-radius: 50%;\n",
              "      cursor: pointer;\n",
              "      display: none;\n",
              "      fill: #1967D2;\n",
              "      height: 32px;\n",
              "      padding: 0 0 0 0;\n",
              "      width: 32px;\n",
              "    }\n",
              "\n",
              "    .colab-df-convert:hover {\n",
              "      background-color: #E2EBFA;\n",
              "      box-shadow: 0px 1px 2px rgba(60, 64, 67, 0.3), 0px 1px 3px 1px rgba(60, 64, 67, 0.15);\n",
              "      fill: #174EA6;\n",
              "    }\n",
              "\n",
              "    [theme=dark] .colab-df-convert {\n",
              "      background-color: #3B4455;\n",
              "      fill: #D2E3FC;\n",
              "    }\n",
              "\n",
              "    [theme=dark] .colab-df-convert:hover {\n",
              "      background-color: #434B5C;\n",
              "      box-shadow: 0px 1px 3px 1px rgba(0, 0, 0, 0.15);\n",
              "      filter: drop-shadow(0px 1px 2px rgba(0, 0, 0, 0.3));\n",
              "      fill: #FFFFFF;\n",
              "    }\n",
              "  </style>\n",
              "\n",
              "      <script>\n",
              "        const buttonEl =\n",
              "          document.querySelector('#df-5a2f3ab0-bd64-4010-968e-2e274ee0300f button.colab-df-convert');\n",
              "        buttonEl.style.display =\n",
              "          google.colab.kernel.accessAllowed ? 'block' : 'none';\n",
              "\n",
              "        async function convertToInteractive(key) {\n",
              "          const element = document.querySelector('#df-5a2f3ab0-bd64-4010-968e-2e274ee0300f');\n",
              "          const dataTable =\n",
              "            await google.colab.kernel.invokeFunction('convertToInteractive',\n",
              "                                                     [key], {});\n",
              "          if (!dataTable) return;\n",
              "\n",
              "          const docLinkHtml = 'Like what you see? Visit the ' +\n",
              "            '<a target=\"_blank\" href=https://colab.research.google.com/notebooks/data_table.ipynb>data table notebook</a>'\n",
              "            + ' to learn more about interactive tables.';\n",
              "          element.innerHTML = '';\n",
              "          dataTable['output_type'] = 'display_data';\n",
              "          await google.colab.output.renderOutput(dataTable, element);\n",
              "          const docLink = document.createElement('div');\n",
              "          docLink.innerHTML = docLinkHtml;\n",
              "          element.appendChild(docLink);\n",
              "        }\n",
              "      </script>\n",
              "    </div>\n",
              "  </div>\n",
              "  "
            ]
          },
          "metadata": {},
          "execution_count": 21
        }
      ]
    },
    {
      "cell_type": "code",
      "source": [
        "#Plot a bar graph in which days the count of attcks are more\n",
        "df['day'].value_counts().sort_index().plot.bar(figsize=(12, 6))\n",
        "plt.xlabel('Day of the Month')\n",
        "plt.ylabel('Count of Attacks')\n",
        "plt.title('Count of Attacks by Day')\n",
        "plt.xticks(rotation=0)\n",
        "plt.show()\n",
        "# TODO: Code to fill: \n",
        "\n",
        "# 1. '<<__A__>>' --> Fill the column name for which you want to plot a bar graph\n",
        "# 2. '<<__B__>>' --> write your method here to count the values\n",
        "# 3. '<<__C__>>' --> fill the type of plot\n",
        "# 4. '<<__D__>>' --> Set plot size (12,6)"
      ],
      "metadata": {
        "id": "3enV_aY1eNHT",
        "colab": {
          "base_uri": "https://localhost:8080/",
          "height": 564
        },
        "outputId": "0cc7fa93-fb23-4f86-ab15-ce26a3787939"
      },
      "id": "3enV_aY1eNHT",
      "execution_count": 22,
      "outputs": [
        {
          "output_type": "display_data",
          "data": {
            "text/plain": [
              "<Figure size 1200x600 with 1 Axes>"
            ],
            "image/png": "[encoded data removed]"
          },
          "metadata": {}
        }
      ]
    },
    {
      "cell_type": "markdown",
      "id": "d9347ed8",
      "metadata": {
        "id": "d9347ed8"
      },
      "source": [
        "### Question: 5 ( 2 Marks )\n",
        "Display the Top 10 states where the high number of cases recorded "
      ]
    },
    {
      "cell_type": "code",
      "execution_count": 23,
      "id": "3baae75c",
      "metadata": {
        "id": "3baae75c",
        "colab": {
          "base_uri": "https://localhost:8080/",
          "height": 834
        },
        "outputId": "14cdb496-8233-492d-cdec-2372a1bab896"
      },
      "outputs": [
        {
          "output_type": "execute_result",
          "data": {
            "text/plain": [
              "(array([0, 1, 2, 3, 4, 5, 6, 7, 8, 9]),\n",
              " [Text(0, 0, 'CA'),\n",
              "  Text(1, 0, 'TX'),\n",
              "  Text(2, 0, 'FL'),\n",
              "  Text(3, 0, 'AZ'),\n",
              "  Text(4, 0, 'CO'),\n",
              "  Text(5, 0, 'GA'),\n",
              "  Text(6, 0, 'OK'),\n",
              "  Text(7, 0, 'OH'),\n",
              "  Text(8, 0, 'WA'),\n",
              "  Text(9, 0, 'NC')])"
            ]
          },
          "metadata": {},
          "execution_count": 23
        },
        {
          "output_type": "display_data",
          "data": {
            "text/plain": [
              "<Figure size 1000x700 with 1 Axes>"
            ],
            "image/png": "[encoded data removed]"
          },
          "metadata": {}
        }
      ],
      "source": [
        "# Write your code here\n",
        "state = df.state.value_counts().head(10)\n",
        "\n",
        "# Display the Top 10 states using bar chart\n",
        "plt.figure(figsize=(10,7))\n",
        "sns.barplot(x=state.index, y=state.values)\n",
        "plt.ylabel('Number of cases reported')\n",
        "plt.xlabel('States')\n",
        "plt.title('Top 10 states',color = 'blue',fontsize=15)\n",
        "plt.xticks(rotation=0)\n",
        "\n",
        "\n",
        "\n",
        "# TODO: Code to fill: \n",
        "\n",
        "# 1. '<<__A__>>' --> Fill the column name \n",
        "# 2. '<<__B__>>' --> write your method here to count the values\n",
        "# 3. '<<__C__>>' --> Provide x axis values from state dataframe created in previous step\n",
        "# 4. '<<__D__>>' --> Provide y axis values from state dataframe created in previous step\n"
      ]
    },
    {
      "cell_type": "markdown",
      "source": [
        "### Question: 6 ( 1 Mark )\n",
        "Drop the features that have more unique string values and not relevant to the model."
      ],
      "metadata": {
        "id": "kubiq3XvoaUE"
      },
      "id": "kubiq3XvoaUE"
    },
    {
      "cell_type": "code",
      "source": [
        "# Find the columns with more unique string values\n",
        "string_columns = []\n",
        "for column in df.columns:\n",
        "    if df[column].dtype == 'object' and df[column].nunique() > 10:\n",
        "        string_columns.append(column)\n",
        "\n",
        "string_columns"
      ],
      "metadata": {
        "id": "YiwyptpOoorz",
        "colab": {
          "base_uri": "https://localhost:8080/"
        },
        "outputId": "200f3a35-2f29-4721-9c12-2f4e27b8dbce"
      },
      "id": "YiwyptpOoorz",
      "execution_count": 24,
      "outputs": [
        {
          "output_type": "execute_result",
          "data": {
            "text/plain": [
              "['name', 'date', 'armed', 'city', 'state']"
            ]
          },
          "metadata": {},
          "execution_count": 24
        }
      ]
    },
    {
      "cell_type": "code",
      "source": [
        "# Find the columns with more unique string values\n",
        "\n",
        "df.drop(columns=['name', 'date', 'armed', 'city', 'state'],axis=1,inplace=True)"
      ],
      "metadata": {
        "id": "-zPfBoqN76eL"
      },
      "id": "-zPfBoqN76eL",
      "execution_count": 25,
      "outputs": []
    },
    {
      "cell_type": "code",
      "source": [
        "#Display the top 5 rows of dataset after droping the unnecessary features\n",
        "df.head(5)\n",
        "\n",
        "# TODO: Code to fill: \n",
        "\n",
        "# 1. '<<__A__>>' --> Fill appropriate method for removing features\n",
        "# 2. '<<__B__>>' --> column names \n",
        "# 3. '<<__C__>>' --> Give the axis for removing features\n",
        "# 3. '<<__D__>>' --> Use the correct method to get top 5 rows of dataset after droping the unnessacary features"
      ],
      "metadata": {
        "id": "t95ykFkxoyQZ",
        "colab": {
          "base_uri": "https://localhost:8080/",
          "height": 206
        },
        "outputId": "c95a6ac3-e31e-468c-ba94-cdf4abee46b8"
      },
      "id": "t95ykFkxoyQZ",
      "execution_count": 26,
      "outputs": [
        {
          "output_type": "execute_result",
          "data": {
            "text/plain": [
              "   id   manner_of_death   age gender race  signs_of_mental_illness  \\\n",
              "0   3              shot  53.0      M    A                     True   \n",
              "1   4              shot  47.0      M    W                    False   \n",
              "2   5  shot and Tasered  23.0      M    H                    False   \n",
              "3   8              shot  32.0      M    W                     True   \n",
              "4   9              shot  39.0      M    H                    False   \n",
              "\n",
              "  threat_level         flee  body_camera   age_categories  year  day  month  \n",
              "0       attack  Not fleeing        False  Senior citizens  2015    2      1  \n",
              "1       attack  Not fleeing        False            Adult  2015    2      1  \n",
              "2        other  Not fleeing        False            Youth  2015    3      1  \n",
              "3       attack  Not fleeing        False            Youth  2015    4      1  \n",
              "4       attack  Not fleeing        False            Adult  2015    4      1  "
            ],
            "text/html": [
              "\n",
              "  <div id=\"df-37c12fdb-a3bd-473c-82bb-49112e6bd54b\">\n",
              "    <div class=\"colab-df-container\">\n",
              "      <div>\n",
              "<style scoped>\n",
              "    .dataframe tbody tr th:only-of-type {\n",
              "        vertical-align: middle;\n",
              "    }\n",
              "\n",
              "    .dataframe tbody tr th {\n",
              "        vertical-align: top;\n",
              "    }\n",
              "\n",
              "    .dataframe thead th {\n",
              "        text-align: right;\n",
              "    }\n",
              "</style>\n",
              "<table border=\"1\" class=\"dataframe\">\n",
              "  <thead>\n",
              "    <tr style=\"text-align: right;\">\n",
              "      <th></th>\n",
              "      <th>id</th>\n",
              "      <th>manner_of_death</th>\n",
              "      <th>age</th>\n",
              "      <th>gender</th>\n",
              "      <th>race</th>\n",
              "      <th>signs_of_mental_illness</th>\n",
              "      <th>threat_level</th>\n",
              "      <th>flee</th>\n",
              "      <th>body_camera</th>\n",
              "      <th>age_categories</th>\n",
              "      <th>year</th>\n",
              "      <th>day</th>\n",
              "      <th>month</th>\n",
              "    </tr>\n",
              "  </thead>\n",
              "  <tbody>\n",
              "    <tr>\n",
              "      <th>0</th>\n",
              "      <td>3</td>\n",
              "      <td>shot</td>\n",
              "      <td>53.0</td>\n",
              "      <td>M</td>\n",
              "      <td>A</td>\n",
              "      <td>True</td>\n",
              "      <td>attack</td>\n",
              "      <td>Not fleeing</td>\n",
              "      <td>False</td>\n",
              "      <td>Senior citizens</td>\n",
              "      <td>2015</td>\n",
              "      <td>2</td>\n",
              "      <td>1</td>\n",
              "    </tr>\n",
              "    <tr>\n",
              "      <th>1</th>\n",
              "      <td>4</td>\n",
              "      <td>shot</td>\n",
              "      <td>47.0</td>\n",
              "      <td>M</td>\n",
              "      <td>W</td>\n",
              "      <td>False</td>\n",
              "      <td>attack</td>\n",
              "      <td>Not fleeing</td>\n",
              "      <td>False</td>\n",
              "      <td>Adult</td>\n",
              "      <td>2015</td>\n",
              "      <td>2</td>\n",
              "      <td>1</td>\n",
              "    </tr>\n",
              "    <tr>\n",
              "      <th>2</th>\n",
              "      <td>5</td>\n",
              "      <td>shot and Tasered</td>\n",
              "      <td>23.0</td>\n",
              "      <td>M</td>\n",
              "      <td>H</td>\n",
              "      <td>False</td>\n",
              "      <td>other</td>\n",
              "      <td>Not fleeing</td>\n",
              "      <td>False</td>\n",
              "      <td>Youth</td>\n",
              "      <td>2015</td>\n",
              "      <td>3</td>\n",
              "      <td>1</td>\n",
              "    </tr>\n",
              "    <tr>\n",
              "      <th>3</th>\n",
              "      <td>8</td>\n",
              "      <td>shot</td>\n",
              "      <td>32.0</td>\n",
              "      <td>M</td>\n",
              "      <td>W</td>\n",
              "      <td>True</td>\n",
              "      <td>attack</td>\n",
              "      <td>Not fleeing</td>\n",
              "      <td>False</td>\n",
              "      <td>Youth</td>\n",
              "      <td>2015</td>\n",
              "      <td>4</td>\n",
              "      <td>1</td>\n",
              "    </tr>\n",
              "    <tr>\n",
              "      <th>4</th>\n",
              "      <td>9</td>\n",
              "      <td>shot</td>\n",
              "      <td>39.0</td>\n",
              "      <td>M</td>\n",
              "      <td>H</td>\n",
              "      <td>False</td>\n",
              "      <td>attack</td>\n",
              "      <td>Not fleeing</td>\n",
              "      <td>False</td>\n",
              "      <td>Adult</td>\n",
              "      <td>2015</td>\n",
              "      <td>4</td>\n",
              "      <td>1</td>\n",
              "    </tr>\n",
              "  </tbody>\n",
              "</table>\n",
              "</div>\n",
              "      <button class=\"colab-df-convert\" onclick=\"convertToInteractive('df-37c12fdb-a3bd-473c-82bb-49112e6bd54b')\"\n",
              "              title=\"Convert this dataframe to an interactive table.\"\n",
              "              style=\"display:none;\">\n",
              "        \n",
              "  <svg xmlns=\"http://www.w3.org/2000/svg\" height=\"24px\"viewBox=\"0 0 24 24\"\n",
              "       width=\"24px\">\n",
              "    <path d=\"M0 0h24v24H0V0z\" fill=\"none\"/>\n",
              "    <path d=\"M18.56 5.44l.94 2.06.94-2.06 2.06-.94-2.06-.94-.94-2.06-.94 2.06-2.06.94zm-11 1L8.5 8.5l.94-2.06 2.06-.94-2.06-.94L8.5 2.5l-.94 2.06-2.06.94zm10 10l.94 2.06.94-2.06 2.06-.94-2.06-.94-.94-2.06-.94 2.06-2.06.94z\"/><path d=\"M17.41 7.96l-1.37-1.37c-.4-.4-.92-.59-1.43-.59-.52 0-1.04.2-1.43.59L10.3 9.45l-7.72 7.72c-.78.78-.78 2.05 0 2.83L4 21.41c.39.39.9.59 1.41.59.51 0 1.02-.2 1.41-.59l7.78-7.78 2.81-2.81c.8-.78.8-2.07 0-2.86zM5.41 20L4 18.59l7.72-7.72 1.47 1.35L5.41 20z\"/>\n",
              "  </svg>\n",
              "      </button>\n",
              "      \n",
              "  <style>\n",
              "    .colab-df-container {\n",
              "      display:flex;\n",
              "      flex-wrap:wrap;\n",
              "      gap: 12px;\n",
              "    }\n",
              "\n",
              "    .colab-df-convert {\n",
              "      background-color: #E8F0FE;\n",
              "      border: none;\n",
              "      border-radius: 50%;\n",
              "      cursor: pointer;\n",
              "      display: none;\n",
              "      fill: #1967D2;\n",
              "      height: 32px;\n",
              "      padding: 0 0 0 0;\n",
              "      width: 32px;\n",
              "    }\n",
              "\n",
              "    .colab-df-convert:hover {\n",
              "      background-color: #E2EBFA;\n",
              "      box-shadow: 0px 1px 2px rgba(60, 64, 67, 0.3), 0px 1px 3px 1px rgba(60, 64, 67, 0.15);\n",
              "      fill: #174EA6;\n",
              "    }\n",
              "\n",
              "    [theme=dark] .colab-df-convert {\n",
              "      background-color: #3B4455;\n",
              "      fill: #D2E3FC;\n",
              "    }\n",
              "\n",
              "    [theme=dark] .colab-df-convert:hover {\n",
              "      background-color: #434B5C;\n",
              "      box-shadow: 0px 1px 3px 1px rgba(0, 0, 0, 0.15);\n",
              "      filter: drop-shadow(0px 1px 2px rgba(0, 0, 0, 0.3));\n",
              "      fill: #FFFFFF;\n",
              "    }\n",
              "  </style>\n",
              "\n",
              "      <script>\n",
              "        const buttonEl =\n",
              "          document.querySelector('#df-37c12fdb-a3bd-473c-82bb-49112e6bd54b button.colab-df-convert');\n",
              "        buttonEl.style.display =\n",
              "          google.colab.kernel.accessAllowed ? 'block' : 'none';\n",
              "\n",
              "        async function convertToInteractive(key) {\n",
              "          const element = document.querySelector('#df-37c12fdb-a3bd-473c-82bb-49112e6bd54b');\n",
              "          const dataTable =\n",
              "            await google.colab.kernel.invokeFunction('convertToInteractive',\n",
              "                                                     [key], {});\n",
              "          if (!dataTable) return;\n",
              "\n",
              "          const docLinkHtml = 'Like what you see? Visit the ' +\n",
              "            '<a target=\"_blank\" href=https://colab.research.google.com/notebooks/data_table.ipynb>data table notebook</a>'\n",
              "            + ' to learn more about interactive tables.';\n",
              "          element.innerHTML = '';\n",
              "          dataTable['output_type'] = 'display_data';\n",
              "          await google.colab.output.renderOutput(dataTable, element);\n",
              "          const docLink = document.createElement('div');\n",
              "          docLink.innerHTML = docLinkHtml;\n",
              "          element.appendChild(docLink);\n",
              "        }\n",
              "      </script>\n",
              "    </div>\n",
              "  </div>\n",
              "  "
            ]
          },
          "metadata": {},
          "execution_count": 26
        }
      ]
    },
    {
      "cell_type": "markdown",
      "source": [
        "### Question: 7 ( 2 Marks )\n",
        "Create a line plot that shows the number of attacks every year according to race"
      ],
      "metadata": {
        "id": "omvTUjRjpXRj"
      },
      "id": "omvTUjRjpXRj"
    },
    {
      "cell_type": "code",
      "source": [
        "# Write your code here\n",
        "pd.crosstab(df['year'],df['race']).plot.line(figsize=(12,6))\n",
        "\n",
        "# Set the labels and title for the plot\n",
        "plt.xlabel('Year')\n",
        "plt.ylabel('Number of Attacks')\n",
        "plt.title('Number of Attacks by Year and Race')\n",
        "\n",
        "# Display the plot\n",
        "plt.show()\n",
        "\n",
        "# TODO: Code to fill: \n",
        "\n",
        "# 1. '<<__A__>>' --> Fill the exact column name\n",
        "# 2. '<<__B__>>' --> Fill the exact column name"
      ],
      "metadata": {
        "id": "xV72XEJkpT0-",
        "colab": {
          "base_uri": "https://localhost:8080/",
          "height": 564
        },
        "outputId": "d1cda5f4-2524-4d7b-f11e-b6e532fb73e5"
      },
      "id": "xV72XEJkpT0-",
      "execution_count": 27,
      "outputs": [
        {
          "output_type": "display_data",
          "data": {
            "text/plain": [
              "<Figure size 1200x600 with 1 Axes>"
            ],
            "image/png": "[encoded data removed]"
          },
          "metadata": {}
        }
      ]
    },
    {
      "cell_type": "code",
      "source": [
        "!pip install nbconvert"
      ],
      "metadata": {
        "colab": {
          "base_uri": "https://localhost:8080/"
        },
        "id": "EauKu4M4-gEX",
        "outputId": "ca7fbab4-e42c-4afa-8aca-5f24716f3d07"
      },
      "id": "EauKu4M4-gEX",
      "execution_count": 28,
      "outputs": [
        {
          "output_type": "stream",
          "name": "stdout",
          "text": [
            "Looking in indexes: https://pypi.org/simple, https://us-python.pkg.dev/colab-wheels/public/simple/\n",
            "Requirement already satisfied: nbconvert in /usr/local/lib/python3.10/dist-packages (6.5.4)\n",
            "Requirement already satisfied: lxml in /usr/local/lib/python3.10/dist-packages (from nbconvert) (4.9.2)\n",
            "Requirement already satisfied: beautifulsoup4 in /usr/local/lib/python3.10/dist-packages (from nbconvert) (4.11.2)\n",
            "Requirement already satisfied: bleach in /usr/local/lib/python3.10/dist-packages (from nbconvert) (6.0.0)\n",
            "Requirement already satisfied: defusedxml in /usr/local/lib/python3.10/dist-packages (from nbconvert) (0.7.1)\n",
            "Requirement already satisfied: entrypoints>=0.2.2 in /usr/local/lib/python3.10/dist-packages (from nbconvert) (0.4)\n",
            "Requirement already satisfied: jinja2>=3.0 in /usr/local/lib/python3.10/dist-packages (from nbconvert) (3.1.2)\n",
            "Requirement already satisfied: jupyter-core>=4.7 in /usr/local/lib/python3.10/dist-packages (from nbconvert) (5.3.0)\n",
            "Requirement already satisfied: jupyterlab-pygments in /usr/local/lib/python3.10/dist-packages (from nbconvert) (0.2.2)\n",
            "Requirement already satisfied: MarkupSafe>=2.0 in /usr/local/lib/python3.10/dist-packages (from nbconvert) (2.1.2)\n",
            "Requirement already satisfied: mistune<2,>=0.8.1 in /usr/local/lib/python3.10/dist-packages (from nbconvert) (0.8.4)\n",
            "Requirement already satisfied: nbclient>=0.5.0 in /usr/local/lib/python3.10/dist-packages (from nbconvert) (0.7.4)\n",
            "Requirement already satisfied: nbformat>=5.1 in /usr/local/lib/python3.10/dist-packages (from nbconvert) (5.8.0)\n",
            "Requirement already satisfied: packaging in /usr/local/lib/python3.10/dist-packages (from nbconvert) (23.1)\n",
            "Requirement already satisfied: pandocfilters>=1.4.1 in /usr/local/lib/python3.10/dist-packages (from nbconvert) (1.5.0)\n",
            "Requirement already satisfied: pygments>=2.4.1 in /usr/local/lib/python3.10/dist-packages (from nbconvert) (2.14.0)\n",
            "Requirement already satisfied: tinycss2 in /usr/local/lib/python3.10/dist-packages (from nbconvert) (1.2.1)\n",
            "Requirement already satisfied: traitlets>=5.0 in /usr/local/lib/python3.10/dist-packages (from nbconvert) (5.7.1)\n",
            "Requirement already satisfied: platformdirs>=2.5 in /usr/local/lib/python3.10/dist-packages (from jupyter-core>=4.7->nbconvert) (3.3.0)\n",
            "Requirement already satisfied: jupyter-client>=6.1.12 in /usr/local/lib/python3.10/dist-packages (from nbclient>=0.5.0->nbconvert) (6.1.12)\n",
            "Requirement already satisfied: fastjsonschema in /usr/local/lib/python3.10/dist-packages (from nbformat>=5.1->nbconvert) (2.16.3)\n",
            "Requirement already satisfied: jsonschema>=2.6 in /usr/local/lib/python3.10/dist-packages (from nbformat>=5.1->nbconvert) (4.3.3)\n",
            "Requirement already satisfied: soupsieve>1.2 in /usr/local/lib/python3.10/dist-packages (from beautifulsoup4->nbconvert) (2.4.1)\n",
            "Requirement already satisfied: six>=1.9.0 in /usr/local/lib/python3.10/dist-packages (from bleach->nbconvert) (1.16.0)\n",
            "Requirement already satisfied: webencodings in /usr/local/lib/python3.10/dist-packages (from bleach->nbconvert) (0.5.1)\n",
            "Requirement already satisfied: attrs>=17.4.0 in /usr/local/lib/python3.10/dist-packages (from jsonschema>=2.6->nbformat>=5.1->nbconvert) (23.1.0)\n",
            "Requirement already satisfied: pyrsistent!=0.17.0,!=0.17.1,!=0.17.2,>=0.14.0 in /usr/local/lib/python3.10/dist-packages (from jsonschema>=2.6->nbformat>=5.1->nbconvert) (0.19.3)\n",
            "Requirement already satisfied: pyzmq>=13 in /usr/local/lib/python3.10/dist-packages (from jupyter-client>=6.1.12->nbclient>=0.5.0->nbconvert) (23.2.1)\n",
            "Requirement already satisfied: python-dateutil>=2.1 in /usr/local/lib/python3.10/dist-packages (from jupyter-client>=6.1.12->nbclient>=0.5.0->nbconvert) (2.8.2)\n",
            "Requirement already satisfied: tornado>=4.1 in /usr/local/lib/python3.10/dist-packages (from jupyter-client>=6.1.12->nbclient>=0.5.0->nbconvert) (6.3.1)\n"
          ]
        }
      ]
    },
    {
      "cell_type": "code",
      "source": [
        "!jupyter nbconvert --to html /content/UOA_assessment_w3.ipynb"
      ],
      "metadata": {
        "id": "7cV9zOMy-mNM"
      },
      "id": "7cV9zOMy-mNM",
      "execution_count": 29,
      "outputs": []
    },
    {
      "cell_type": "markdown",
      "id": "9f6279cb",
      "metadata": {
        "id": "9f6279cb"
      },
      "source": [
        "## Thank you!"
      ]
    }
  ],
  "metadata": {
    "kernelspec": {
      "display_name": "Python 3 (ipykernel)",
      "language": "python",
      "name": "python3"
    },
    "language_info": {
      "codemirror_mode": {
        "name": "ipython",
        "version": 3
      },
      "file_extension": ".py",
      "mimetype": "text/x-python",
      "name": "python",
      "nbconvert_exporter": "python",
      "pygments_lexer": "ipython3",
      "version": "3.9.7"
    },
    "colab": {
      "provenance": []
    }
  },
  "nbformat": 4,
  "nbformat_minor": 5
}