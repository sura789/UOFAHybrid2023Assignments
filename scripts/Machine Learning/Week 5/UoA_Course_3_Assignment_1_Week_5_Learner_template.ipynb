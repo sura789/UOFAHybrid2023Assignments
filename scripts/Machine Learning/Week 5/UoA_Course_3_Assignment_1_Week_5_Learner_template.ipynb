{
  "nbformat": 4,
  "nbformat_minor": 0,
  "metadata": {
    "colab": {
      "provenance": []
    },
    "kernelspec": {
      "name": "python3",
      "display_name": "Python 3"
    },
    "language_info": {
      "name": "python"
    }
  },
  "cells": [
    {
      "cell_type": "markdown",
      "source": [
        "# Week5 : Tree Based Methods"
      ],
      "metadata": {
        "id": "HGf4aDLnYkLz"
      }
    },
    {
      "cell_type": "markdown",
      "source": [
        "### Objectives\n",
        "This homework sheet will help reviewing the basic concepts associated with tree-based methods and provide a basic introduction to the ML workflow using real-world datasets. Please review the lectures, suggested readings, and additional resources _before_ getting started on the HW."
      ],
      "metadata": {
        "id": "Rg9qh3CJYv8L"
      }
    },
    {
      "cell_type": "markdown",
      "source": [
        "**Some questions in this assignment will require you to conduct independent research beyond the material covered in the recorded content.**"
      ],
      "metadata": {
        "id": "3JRnBhvId8KB"
      }
    },
    {
      "cell_type": "markdown",
      "source": [
        "The following website has access to the relevant datasets from the recommended textbook: https://book.huihoo.com/introduction-to-statistical-learning/data.html"
      ],
      "metadata": {
        "id": "vMr0kAaPY3e7"
      }
    },
    {
      "cell_type": "markdown",
      "source": [
        "Marks Distribution\n",
        "\n",
        "| Question      | Marks |\n",
        "| ----------- | ----------- |\n",
        "| 1     | 3      |\n",
        "| 2     | 3     |\n",
        "| 3a     | 2     |\n",
        "| 3b     | 2     |\n",
        "| 3c     | 5     |"
      ],
      "metadata": {
        "id": "ptl1KEbre7T-"
      }
    },
    {
      "cell_type": "markdown",
      "source": [
        "# Questions"
      ],
      "metadata": {
        "id": "PFibrSZ6Y8UO"
      }
    },
    {
      "cell_type": "markdown",
      "source": [
        "Conceptual"
      ],
      "metadata": {
        "id": "yOFIRzFgZF3J"
      }
    },
    {
      "cell_type": "markdown",
      "source": [
        "\n",
        "Q1. Draw an example (of your own invention) of a partition of two-dimensional feature space that could result from recursive binary splitting. Your example should contain at least six regions. Draw a decision tree corresponding to this partition. Be sure to label all aspects of your figures, including the regions $R_1$, $R_2$, ... , the cutpoints $t_1$ , $t_2$, ..., and so forth. Please insert your sketch below.\n",
        "\n",
        "\n",
        "**Please note: You can use Microsoft word / any editor or draw the image by hand, you can upload the image / screenshot  to colab file using insert image option in text cell**\n"
      ],
      "metadata": {
        "id": "M7NFhqnOZLN-"
      }
    },
    {
      "cell_type": "markdown",
      "source": [
        "ANSWER in the markdown cell\n",
        "\n",
        "![Week5_Assignment_Q1_a.png](data:image/png;base64,iVBORw0KGgoAAAANSUhEUgAAA4kAAAJCCAYAAABtdoKWAAAAAXNSR0IArs4c6QAAAARnQU1BAACxjwv8YQUAAAAJcEhZcwAADsMAAA7DAcdvqGQAACO5SURBVHhe7d19lJ1Vfejxfa5AyAukGF6KmFRMNXATYEEC5RoiBCQoL7UC4eVaCEWUKr1ABC1dgA2ISy1g0GWhINJEKxBIbEFQiYUIIamGACYkywCm4OTSXN7KCia8CK7c2fs855dJMgGFOTNnZj6ftWbt/exz8s/MWmfynf281Na3SwAAANDuf1QjAAAAiEQAAAA2EIkAAAAEkQgAAEAQiQAAAASRCAAAQBCJAAAABJEIAABAEIkAAAAEkQgAAEAQiQAAAASRCAAAQBCJAAAABJEIAABAEIkAAAAEkQgAAEAQiQAAAASRCAAAQBCJAAAABJEIAABAEIkAAAAEkQgAAEAQiQAAAASRCAAAQBCJAAAABJEIAABAEIkAAAAEkQgAAEAQiQAAAASRCAAAQBCJAAAABJEIAABAEIkAAAAEkQgAAEAQiQAAAASRCAAAQBCJAAAABJEIAABAEIkAAAAEkQgAAEAQiQAAAASRCAAAQBCJAAAABJEIAABAEIkAAAAEkQgAAEAQiQAAAITa+nbVHACAXuqC66eklat/WR1tbuSue6avnDEzTfvOp9PyXz9YrW5w+H7Hpk8ddUF1BPRndhIBAPqRV377UjUD6JydRACAPqaxq9jYPeyo8dpZf/6FdMg+R1erABvYSYRulH8xT/7iAVv8yq83PP3CU+m6O78Srz3w6L3VKwAA0DwiEVrQD39+czr/uo+nnzz0/WolpXWv/KaaAcDb94+3X1r+CHnKVw9JX511flqxakn1CtDfiUToRvmUn1svXlS+8ilAWR4ba41Tgu575Edpt2F/kk485MxyDADNkq9RXPzYfelrs/+uWgH6O9ckQg95o+tFGn665I7yl97MtSOtrfHz3JLGzzn/pf62hd9Ny55cXP5jtu02g9KY94xLp02amnbZYbfq3QBvz+/zOybLlzbMmDu9RGLmdw2Q2UkE6EZfuvGc8p+xxt0FG3/Bv+YHl5VjgO6U/zj1Z3scUh0B1IlEgC7w+55KPHCbQeU04rz2zb/513ivW9ID3eXsfzw+boaWdxJ/vuKnZZ798TuHVzOgPxOJAN3ouqk/TMdP+ESZv7D2ufTSq+vKfIftdiojQLOt/u+29A+3fK7ctOZvvvmxONV0wpgPpz2G71PmQP8mEgG6Uf7rfeOxJhfP+GT5z1r+j1m+JhGgq+TrnTuOHeXrDhtnMWS7vnNEOcPh7I/Vr4EHEIkAPWz+sh+nuQ/OqY4A3r5pp15TTmvP46byjWk6niL/jbNmxxkOAJlIhBbUeIh+486mWeN5VvmOp/Re+486OP5j9vkTLi9/wc9u/49/iWuEAAB6kkiEHvJGpwLRP+Rg/PC446ujlNa98ptqBgDQczwnEaCLben5ZHkX+McP3Jo+vP/kcrpXfmbizfP+KS3/9YPl9byzmMMRAKAn2UkE6CaDt92uxGPj1OF845pGII7+k7ECEQBoCSIRoItt6VTiHIF/Nemzm91V8PD9ju305hIAAD3B6aYAAAAEO4kAAAAEkQgAAEAQiQAAAASRCAAAQBCJAAAABJEIAABAEIkAAAAEkQgAAEAQiQAAAASRCAAAQBCJAAAABJEIAABAEIkAAAAEkQgAAEAQiQAAAASRCAAAQBCJAAAABJEIAABAEIkAAAAEkQgAAEAQiQAAAITa+nbVnCar1WrVDDa37fZ/nHYYvm9avfxH1QoAAGxZs1LOTiK0iIHb75re9T+PrI7oi/IfAnYd/ZHqCKDr+ZwBuoKdxG7U2En0LaczS361Jn137qp0xWfGVCv0NX7GQLP5nIH+odldYScRAACAIBIBAAAIIhEAAIAgEgEAAAgiEQAAgCASAQAACCIRAACAIBIBAAAIIhEAAIAgEgEAAAgiEQAAgCASAQAACCIRAACAIBIBAAAIIhEAAIAgEgEAAAgiEaCbrH3l9TRk4FbVEUDX8zkDdAWRCAAAQBCJAAAABJEIAABAEIkAAAAEkQgAAEAQiQAAAASRCAAAQBCJ0CI82woAgFYgEgEAAAgiEQAAgCASAQAACCIRAACAIBIBAAAIIhEAAIAgEgEAAAgiEQAAgCASAQAACCIRAACAIBIBAAAIIhEAAIAgEgEAAAgiEQAAgCASAQAACCIRAACAIBIBAAAIIhEAAIAgEgEAAAgiEQAAgCASAQAACCIRAACAIBIBAAAIIhEAAIAgEgG6ydqXX0+DB76jOgLoej5ngK4gEgEAAAgiEQAAgCASAQAACCIRAACAIBIBAAAIIhEAAIAgEqFFuG05AACtQCQCAAAQRCIAAABBJAIAABBEIgAAAEEkAgAAEGrr21VzmqxWq5XRt5zO3PXA02npyhfT5056X7VCX+NnDDSbz5m+7+oz56bHF62ujuqG7jQojZk4PE08dUwattuQtPzeVen6c++pXt3coaeNScecM7Y6ojdqdlfYSQQAgF7i1XWvVbMN1jz7Ulpwy6Np1qULqxV4e0QiAAD0MuNPGJWmPzwlXXTHcWmviSPKWmOHcfTBw8trHb8+ftlB5bVszCHDqxl0TiQCAEAvlU8v3fuweiS+kfk3rShjDsrd99m5zGFLRCIAAPRSzz+1Ni29u63M87WJnVl858rUtvy5Mv99ghJEIgAA9DL5GsSp+85Mlx09Jz0yry0NGLx1mnzhgdWrG2vsIo4YvWMad9TIMoc3IhIBAKCXGz95VLkWcVP5TqeNXcRxR7+3jPBmRCIAAPQyjRvX5MdZZPfMWFZOK93Uz2/7VRnzqagTTtqzzOHNiEQAAOil8vMO82mkWeO00oYnljxTTkXNclTC70skAgBALzbh5D3KmE8r7bibOG/m8jLm6xX3+4hTTfn9iUQAAOglcvBtKt+MprGbuOj2eiTmu542dhHHHfXe8qgM+H3V1rer5jRZrVYro285nbnrgafT0pUvps+d9L5qhb7GzxhoNp8z0D80uyvsJAIAABBEIgAAAEEkAgAAEEQiAAAAQSQCAAAQRCIAAABBJAIAABBEIgAAAEEkAgAAEEQiQDdZ9/Lv0pCBW1VHAF3P5wzQFUQiAAAAQSQCAAAQRCIAAABBJAIAABBEIgAAAEEkQotwRzoAAFqBSAQAACCIRAAAAIJIBAAAIIhEAOgCV585N03dd+ZGX9Mm3Zpmf/ln6fmn1lbv2iCv5dcb7/3J9UurVwCgZ4lEAOgCr657rZptsObZl9KCWx5Nsy5dWK1s8ONrflFeb+g4B4CeJBIBoAuNP2FUmv7wlHTRHcelvSaOKGuPL1pdxoYnljyTFt+5Mg3daVAaMXrHahUAWoNIBIAmGLbbkLT3YfVI3NS/Xf5AGQ87fUwZAaCViEQAaIJ8zeHSu9vKPO8YNsy/+ZepbflzZQdxwkl7VqsA0DpEIgB0oXwNYr4RzWVHz0mPzGtLAwZvnSZfeGB5LYfj3TcsK/NJn9y7jADQakQiADTR+Mmj0uiDh5f5wtmPlhvU5GsVG2sA0GpEIgB0ocaNaw49rX694T0zlpWb1GS/euD/lTHvMDYefZFPPc3yDmR+jAYA9DSRCABNcMw5Y+POpfNvWlHGfOopALQ6kQgATTLh5D3KmHcL827iZ66dVHYZO341QjLvQObXAaCniUQA6AKd7RKOO2pkROCi2+unnG7JgEF2GQFoDbX17ao5TVar1croW05nvn/ff6WnX3g1ffqju1cr9DV+xkCz+ZyB/qHZXWEnEQAAgCASAQAACCIRAACAIBIBAAAIIhEAAIAgEgEAAAgiEQAAgCASAQAACCIRAACAIBIBAAAIIhEAAIBQW9+umtNktVqtjL7ldOb79/1XevqFV9OnP7p7tdL7XH3m3PT4otXVUd3QnQalMROHp4mnjknDdhtS1p5Y8kyaN3N5eqz9va+uey0NGLx1ev8Bu6aPnrd/vKcv6gs/Y6C1+ZyB/qHZXWEnEegyOfg2tebZl9KCWx5Nsy5dWK2kdO1Z/54emdcW789jPu74nr5o7cuvp8HbvqM6Auh6PmeAriASgS43/oRRafrDU9JFdxyX9po4oqx13GHcdtDW6ciz9o33jBi9Y1nvLDIBAOheIhFomnzq6N6H1SOxo2lzJ6fDz9i7zF987qX0ShWHQ3ceVEYAAHqOSASa5vmn1qald7eVeb42sWH5vavS1H1nlq9vnPaj9MyTa9K4o0aWaxIBAOhZIhHocvkaxByAlx09p1xrmG9MM/nCA6tXO7f4zpVp4exHqyMAAHqKSASabvzkUWn0wcOro1Tm+XrE/HXGVYemnd8ztKzfM2NZ2WUEAKDniERoEX3pjnSNG9ccetqYcpzjL+8UdiYH40EnjqqOUnp57W+rGQAAPUEkAk1zzDlj486l829aUcYci9P/8s6IxvzMxEfmbdg9HDhkm2oGAEBPEIlAU004eY8yti1/roRhjsA8/95F98eNaxqPx3jfAbtudFoqAADdTyQCXSbfoGZT+a6ljd3ERbevLBF47N8eEGtZviYxn6L6mWsnVSsAAPSU2vp21Zwmq9VqZfQtpzPfuav+qIhTj9j8uYL0DX7GQLP5nIH+odldYScRAACAIBIBAAAIIhEAAIAgEgEAAAgiEQAAgCASAQAACCIRAACAIBIBAAAIIhEAAIAgEgEAAAgiEQAAgFBb366a02S1Wq2MvuV05jt3tZXx1CNGlJG+x88YaLb8ObNk5Zq0dOWL1QrQl5wyaXj5f0Szu0IkdiORyBsREH2fnzHQbD5noH9odlc43RQAAIAgEgEAAAgiEQAAgCASAQAACCIRAACAIBIBAAAIIhEAAIAgEgEAAAgiEQAAgCASAbrJuld+l4YM3Ko6Auh6PmeAriASAQAACCIRAACAIBIBAAAIIhEAAIAgEqFFuNkAAACtQCQCAAAQRCIAAAChd0biDTekdP75Ka1aVS0AAADQFVozEnMADh2aUq2W0kEHpTRnTvVCJUfilVemtGhRtQAAAEBXqK1vV81bw1VXpTR1anXQwfTpKZ17bn2ew3HBgpRmz07puOPqa71ALUdvu1b7ltMarrntibTLDgPSsR98V7VCX+NnDDRbV3/OXHD9lLRy9S+ro82N3HXP9JUzZpb50y88lWbMnZ6WPbk4vfLbl9K22wxK+7//g+nsj11aXge6TrO7ovV2Eu+6q5q0Gz8+pe23r89zOOaABACgpaxYtSSdf93H0+LH7iuBmOVx/rIflznQu7ReJP7mN/XxkktSuv/+lNasSem88+prQhEAoNvkXcJbL15UvvKuYZbHxlpjF/G2hd8tUbjrO0ekz59weXntm3/zr+msP/9CeR3oXVovErfbrj6OHl0fsyuuqJ9umuVQfOSR+hwAgB6XdxCzUz70f9L+ow4u81122C0dss/RZQ70Lq0XiUccUR/nzq2PDfl6xEYovvhifQQAoEc98Oi91Syle37xg3TKVw9Jk794QPrU9CPT7Pnfrl4BepPWi8Qcg3kX8brrUnrooWqx0jEUAQDoceteqS4VatfxmsQX1j6XZv302vTTJXeUY6D3aL1IzJYty7fqSWm//aqFDnIoPvhgSj/5Sa+6sykAQF/3V5M+G9cj7jBkx7L22P9t/38d0Ku0XiTmZyC+2UPyd9oppYULN99pBACgWw3etrqfRLv3vqt+c5t8PeI7t2v//xrQK7VmJI4ZU3+gfmfy3U3zozH+/u9TeuKJahEAgJ6Qb1STn4mYzV08p4z5kRhPPf/rMh84oP4a0Hu0XiTmu5vmG9NceWVKI0bUozGb0/6hkx+in+9u2thpHDq0PgIA0GPyQ/Oz/FzEfNOai2d8Mh6JMWmsy4Ogt2m9SPzRj+o3p8kP0c8x+IlP1GPx+ONTWrCg/p4Pf7h+XeKHPlQ/BgCgqRq7hY2xo7M/dmk6fL9j4zrE/J5x7eF44f/+ejn1FOhdauvbVfPWkgPx619P6Vvf2vDIi3yaad5J7KU3rKnVamVs1W85Peua255o/0U6IB37wXdVK/Q1fsZAs/mcgf6h2V3Rmnc3zZ59NqWf/WzjZyK++90p7b57dQAAAEBXa71IzHcsPemklMaO3XB6aX5uYjZrVn0939Tmze6ACgAAwB+s9SLx7LPrMZgNH57S7Nn15ybm5yLm002zfFObfAdUj8DodlefOTdN3XfmRl/TJt2aZn/5Z+n5p9ZW76rLx3m98b7l9wp7AABoda15umm+ac0ll6TU1rbh+sN8k5r770/p29+ux2M+DdUjMLrdq+teq2YbrHn2pbTglkfTrEsXVispzb/5l+nyE28v6w0vr/1tNQMAAFpV60VivjFN3jn8wheqhU2cfnr9NNTzznN9Yg8af8KoNP3hKemiO45Le00cUdYeX7S6jNniO/4z7fKeoenIs/atVgAAgN6g9SIx7xzmncI3kl+/4oqU9tuvWqCnDNttSNr7sHokdjT1X44qXzvsOrhaAQAAeoPWPN2UXiNfd7j07rYyH7rT5s9NAgAAeheRyFuSrzXMN6O57Og56ZF5bWnA4K3T5AsPrF4FAAB6K5FIlxg/eVQaffCbnCYMAAC0PJHIW9K4cc2hp40px/fMWJYW37myzAEAgN5LJPK2HHPO2DRi9I5lPv+mFWUEAAB6L5HI2zbh5D3K2Lb8udhNbDxE/3sX3V+OszzPa3Yc6a/Wvvx6GjzwHdURQNfzOQN0BZHIHyTfoGZT444aGbuJi24XgAAA0JvV1rer5jRZrVYro285nbnmtifSLjsMSMd+8F3VCn3N5Tc/nvYeuX06Yv9dqhWAruVzBvqHZneFnUQAAACCSIQW4ToSAABagUgEAAAgiEQAAACCSAQAACCIRAAAAIJIBAAAIIhEAAAAgkgEAAAgiEQAAACCSAQAACDU1rer5jRZrVYro285nbn85sfT3iO3T0fsv0u1Ql/z11f+Iq38r3XVEUBz/OWk4WnKESOqI6AvanZXiMRuJBJ5IyKx7/MzBprN5wz0D83uCqebAgAAEEQiAAAAQSQCAAAQRCIAAABBJAIAABBEIgAAAEEkAgAAEEQiAAAAQSQCAAAQRCIAAABBJAIAABBEIgAAAEEkAgAAEEQiAAAAQSQCAAAQRCIAAABBJAIAABBEIgAAAEEkAnSTdS//Lg0ZuFV1BND1fM4AXUEkAgAAEEQiAAAAQSRCi3CKEAAAraC2vl01p8lqtVoZfcvpzLR/XpEO33+nNH7MsGqFvqYZP+MLrp+SVq7+ZXW0uZG77pm+csbM6iilp194Kl0845PphbXPleMTDzkzHT/hE2UO9H5+l0D/0OyusJMI0I/M+um1EYjZf7/4bDUDAKgTiQC9WN4lvPXiReUr7xpmeWysddxFXLFqSZq/7MdphyE7xnsBADYlEgH6iRl3fa2Mf/GBU8sIANAZkQjQD/zw5zeXaxfzDuKRf3ZStQoAsDmRCNDH5ZvV/NvC75T5cRNOLyMAwJaIRIA+bu6Dc8rNasa9/4Np/1EHV6sAAJ0TiQB93PInHyzj4sfuS5O/eED5ajw24ycPfT9N+86nyxwAIBOJAH3cttsMqmYAAG9OJAL0cdNOvSYeidH4ajwC4/D9ji2vAwA0iESAPqKxY/iH7BwOHGCXEQDYWG19u2pOk9VqtTL6ltOZaf+8Ih2+/05p/Jhh1Qp9jZ8x0Gw+Z6B/aHZX2EkEAAAgiEQAAACCSAQAACCIRAAAAIJIBAAAIIhEAAAAgkgEAAAgiEQAAACCSAQAACCIRAAAAIJIBAAAIIhEAAAAgkgEAAAgiEQAAACCSAQAACCIRAAAAIJIBACAXubqM+emqfvO3Ohr2qRb0+wv/yw9/9Ta6l11+fiGz85LFxx0Y3lfHr930f3Vq7A5kQgAAL3Mq+teq2YbrHn2pbTglkfTrEsXVispPbHkmXT5ibenR+a1xb/J4+I7V5Y5dEYkAnSTtS+/noZsu1V1BND1fM70P+NPGJWmPzwlXXTHcWmviSPK2uOLVpcxmzdzeYnCnd8zNJ1x1aHx3o9fdlD1DticSAQAgF5u2G5D0t6H1SOxo7yDmP35uWPT6IOHl3l+77ijRpY5dEYkQovw118A4K3K1x0uvbsehEN3GlTG5feuKmP289t+Fdck5msXf3L90uoV2JxIBACAXipfg5jD77Kj55RdwwGDt06TLzywvPby2t+WMet4TWK+dvGH//iw6xLZIpEIAAB9xPjJo+K00o6O/dsD4nrExk7jk0ufLSNsSiQCAEAv1bhxzaGnjSnH98xYFjuEA4dsU8bs3XsOK2O+HnHozvVIhC0RiQAA0Msdc87YNGL0jmU+/6YVZcw7ivn002zhrY+VMT8S4+kn15T5gEH112BTIhEAAPqACSfvUca25c/FbuJeh9TveJqP87WL3zjtR/FIjA8cP6q8BpsSiQAA0Ms0dgg7yo+1aOwmLrq9Hon5eYj5lNTGdYj53+XnKX7qmx8qp55CZ2rr21VzmqxWq5XRt5zOnH/1snTKpOFpnz8dWq3Q1/gZA83mcwb6h2Z3hZ1EAAAAgkgEAAAgON20GzndlDfSOEVoyco16btzV1Wr9AVXfHpMOfXLaWBAs/mcgf6h2V0hEruRSOSN+MXe9/kZA83mcwb6B9ckAgAA0G1EIgAAAEEkAgAAEEQiAAAAQSQCAAAQRCIAAABBJAIAABBEIgAAAEEkAgAAEEQiAAAAQSQCAAAQRCIAAABBJAIAABBEIgAAAEEkAgAAEEQiAAAAQSQCAAAQRCIAAAChtr5dNafJarVaGX3L6cz5Vy9Lp0wanvb506HVCn2Nn3H/c/WZc9Pji1ZXR3VDdxqUxkwcniaeOiYN221IWevsfdn4E0al4//uwOoI3pzPGegfmt0VdhKhj7vg+ilp8hcP2OJXfj1bsWpJ+uqs89MpXz2krOcxHz/9wlPldd6+ta+8noYM3Ko6oj94dd1r1WyDNc++lBbc8miadenCaqXz98Fb4XMG6AoiESi+dOM5afFj96VXfvtSOc5jPp4xd3o5Bt66vCM4/eEp6aI7jkt7TRxR1jrbOfz4ZQeV9zW+7CIC0BNEIrSIZv319ytnzEy3XryofI3cdc+ylsfGWn49G7jNoPRXkz5b1j5/wuVp2/bjLIci0DXy6aV7H1aPRABoVSIRKK6b+sN05J+dVOb7jzo47TbsT8oc6DrPP7U2Lb27rczztYmb+t5F96ep+85MFxx0Y7rhs/PSE0ueqV4BgO4jEoHN5OsQV67+ZZmPe/8Hywi8dfkaxBx/lx09Jz0yry0NGLx1mnzhlk8lzdco5vfN/Ny91QoAdB+RCGzmmh9cVsZ8yulHP3BKmQNdZ/zkUWn0wcOro5Sm/stRcR1ix+sW801uFt+5sswBoLuIRGAj+Y6my3/9YAnEs//ikrTH8H2qV4C3qnHjmkNPG1OO75mxbIvx57pFAHqaSARCDsR8o5pGIOZrE4Guc8w5Y9OI0TuW+fybVpQx+/LH/i0tv3dVmXe8bjEb9u7tqhkAdA+RCBQCEbrHhJP3KGPb8udiN/GZJ9ek68+9Z6PrFrNxR41Mu++zc5kDQHcRiUB64NF741EX+fmI/3DL5zZ64P53//0b5TXgD5NvULOpHH6N3cRFt9cjMT8fsbGW7fyeoenIs/Yt6wDQ3UQi9CONZx82xobtBv1RNQO60meundTpQ/EbN6rJr2c5HDvevObv/vUv0uFn7F1eA4DuVlvfrprTZLVarYy+5XTmr7/2i/S5E9+XRu42uFqhr/EzBprN5wz0D83uCjuJAAAABJEIAABAEIkAAAAEkQgAAEAQiQAAAASRCAAAQBCJAAAABJEIAABAEIkAAAAEkQgAAEAQiQAAAASRCAAAQBCJAAAABJEIAABAEIkAAAAEkQgAAEAQiQAAAASRCAAAQBCJAAAABJEIAABAEIkAAAAEkQjQTda+/HoaPPAd1RFA1/M5A3QFkQgtwi92AABagUgEAAAgiEQAAACCSAS63NVnzk1T95250de0Sbem2V/+WXr+qbXVu1J6Yskz6YbPzksXHHRjeU8e83HH9wAA0L1EItDlXl33WjXbYM2zL6UFtzyaZl26sFpJ6dqz/j09Mq8t3p/HfHzblQ+UYwAAup9IBJpm/Amj0vSHp6SL7jgu7TVxRFl7fNHqMmbbDto6Hfu3B5T3nHHVoWnA4K3Leg5FAAB6hkgEmm7YbkPS3ofVI7GjaXMnpwkn7Vnmow8ennZ5z9AyBwCg54hEoOnyNYZL767vDg7daVAZN5Xf07b8uTJv7DoCAND9RCLQNPkaxHxDmsuOnlNOIc2nk06+8MDq1Y01rlXM75k4ZXSZAwDQ/UQi0G3GTx5VTivdVL6jab5WMQfiKV+akHbfZ+fqFQAAuptIBJqmceOaQ08bU47vmbEsLb5zZZk35EBs7DLmQOwsIgEA6D4iEWi6Y84Zm0aM3rHM59+0ooyZQAQAaD0iEegWE07eo4z55jR5N3H5vaviURf5+YjXn3vPRg/f/8HXHyyvAQDQvUQi0OXyzuCmxh01MnYTF92+Mg36owFlDgBAa6mtb1fNabJarVZG33I685dfWpyu+PSY9Mfv3LZaoa/xMwaazecM9A/N7go7iQAAAASRCAAAQBCJAAAABJEIAABAEIkAAAAEkQgAAEAQiQAAAASRCAAAQBCJAAAABJEIAABAEIkAAAAEkQgAAEAQiQAAAASRCAAAQBCJAAAABJEIAABAEIkAAAAEkQgAAEAQidAi1r38uzRk4FbVEQAA9AyRCNBN/CEAaDafM0BXEIkAAAAEkQgAAEAQiQAAAASRCAAAQBCJAAAABJEIAABAEIkAAAAEkQgAAEAQiQAAAASRCAAAQBCJAAAABJEIAABAEIkAAAAEkQgAAEAQiQAAAASRCAAAQBCJAAAABJEIAABAEIkAAAAEkQgAAEAQiQAAAASRCAAAQBCJAAAABJEIAABAEIkAAAAEkQgAAEAQiQAAAASRCAAAQBCJAAAABJEIAABAqK1vV81pslqtVs1gc+/9X6entoduSa+/urZaoa855Kwfp/uvP97PGGganzPQvzQr5ewkQov4z/+4wS/1Pi7/EQCgmXzOAF3BTiIAAADBTiIAAABBJAIAABBEIgAAAEEkAgAAEEQiAAAAQSQCAAAQRCIAAABBJAIAABBEIgAAAEEkAgAAEEQiAAAAQSQCAAAQRCIAAABBJAIAABBEIgAAAEEkAgAAEEQiAAAAQSQCAAAQRCIAAABBJAIAABBEIgAAAEEkAgAAEEQiAAAAQSQCAAAQRCIAAABBJAIAABBEIgAAAEEkAgAAEEQiAAAAQSQCAAAQRCIAAABBJAIAABBEIgB9yw03pFSr1b/mzKkW261aldLQofX1q66qFts99FBKH/lIfT2/DgD9XG19u2oOAH3DiBH1KBw/PqX776+vnX9+SldemdLw4Sm1tW281pFfiwD0cyIRgL4n7yAef3x9Pnt2SrvvntLYsfXjb387pdNPr8/z7uGnPlWfX3ddffRrEYB+TiQC0DcddFBKCxbUdw4/8IGUZs3aeGexo447in4tAtDPuSYRgL7pG9+oj/m00xyI2bRp9REA2CKRCEDftN9+KY0eXR20yzuKH/pQdQAAbIlIBKBvync5Xb48pe23rx/nHcWOdzUFADolEgHomxqnln7ykymdeGJ9/rWv1WMRANgikQhA35NvRJNjMO8innNOSp//fH09r3396/U5ANApkQhA35Ifjv+tb9Xnl1xSvxYxX5943nn1tfxafk+W74CaH4PR8VmJ+Th/AUA/JRIB6FuuvTalF1+s37Tm3HOrxXZ5RzHvLObXbryxWgQANuU5iQAAAAQ7iQAAAASRCAAAQBCJAAAABJEIAABAEIkAAAAEkQgAAEAQiQAAAASRCAAAQBCJAAAABJEIAABAEIkAAAAEkQgAAEAQiQAAAASRCAAAQBCJAAAABJEIAABAEIkAAAAEkQgAAEAQiQAAAASRCAAAQBCJAAAABJEIAABAEIkAAAAEkQgAAEAQiQAAAASRCAAAQBCJAAAABJEIAABAEIkAAAAEkQgAAEAQiQAAAASRCAAAQBCJAAAABJEIAABAEIkAAAAEkQgAAEAQiQAAAASRCAAAQBCJAAAABJEIAABAEIkAAAAEkQgAAEAQiQAAAASRCAAAQBCJAAAABJEIAABAEIkAAAAEkQgAAEAQiQAAAASRCAAAQBCJAAAABJEIAABAEIkAAAAEkQgAAEAQiQAAAASRCAAAQBCJAAAABJEIAABAJaX/D7zPfav4RH1dAAAAAElFTkSuQmCC)\n",
        "\n",
        "![Week5_Assignment_Q1_b.png](data:image/png;base64,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)"
      ],
      "metadata": {
        "id": "sq9Yl99RZRgU"
      }
    },
    {
      "cell_type": "markdown",
      "source": [
        "Q2. Suppose we produce ten bootstrapped samples from a data set containing red and green classes. We then apply a classification tree to each bootstrapped sample and, for a specific value of $X$, produce $10$ estimates of $P(Class is Red|X)$:\n",
        "\n",
        "$0.1$, $0.15$, $0.2$, $0.2$, $0.55$, $0.6$, $0.6$, $0.65$, $0.7$, and $0.75$.\n",
        "\n",
        "There are two common ways to combine these results together into a single class prediction. One is the majority vote approach , the second approach is to classify based on the average probability. In this example, what is the final classification under each of these two approaches?"
      ],
      "metadata": {
        "id": "7gyVbYHcISIk"
      }
    },
    {
      "cell_type": "markdown",
      "source": [
        "ANSWER in the markdown cell\n",
        "\n",
        "To determine the final classification under each of these two approaches, let's analyze the provided estimates of \\( P(ClassisRed|X) \\).\n",
        "\n",
        "Given values:\n",
        "0.1, 0.15, 0.2, 0.2, 0.55, 0.6, 0.6, 0.65, 0.7, and 0.75\n",
        "\n",
        "1. **Majority Vote Approach**:\n",
        "   \n",
        "   For majority vote, we'll classify each bootstrapped sample prediction as either 'Red' or 'Green' based on a threshold of 0.5 for the probability. If \\( P(ClassisRed|X) \\) is greater than or equal to 0.5, the prediction is 'Red', otherwise it's 'Green'.\n",
        "\n",
        "   - 'Green': 0.1, 0.15, 0.2, 0.2 (4 votes)\n",
        "   - 'Red': 0.55, 0.6, 0.6, 0.65, 0.7, 0.75 (6 votes)\n",
        "\n",
        "   The majority is 'Red' with 6 out of 10 votes.\n",
        "\n",
        "2. **Average Probability Approach**:\n",
        "\n",
        "   We take the average of the 10 probabilities:\n",
        "\n",
        "   - Average = (0.1 + 0.15 + 0.2 + 0.2 + 0.55 + 0.6 + 0.6 + 0.65 + 0.7 + 0.75)/10\n",
        "\n",
        "   - Average = (4.5)/10\n",
        "   \n",
        "   - Average = 0.45\n",
        "\n",
        "   Since the average probability is 0.45 (which is less than 0.5), the classification is 'Green'.\n",
        "\n",
        "**Conclusion**:\n",
        "\n",
        "- Under the majority vote approach, the final classification is 'Red'.\n",
        "- Under the average probability approach, the final classification is 'Green'."
      ],
      "metadata": {
        "id": "p3mOPPOpLqIk"
      }
    },
    {
      "cell_type": "markdown",
      "source": [
        "# APPLIED"
      ],
      "metadata": {
        "id": "-7jB13Owh2MM"
      }
    },
    {
      "cell_type": "markdown",
      "source": [
        "Q3. Apply boosting and random forest to a data set of your choice. Feel free to use any of the datasets from ISLR dataset link provided ( https://book.huihoo.com/introduction-to-statistical-learning/data.html ) to examine any of the questions that were discussed in any of the previous homeworks. Be sure to fit the models on a training set and to evaluate their performance on a test set. How accurate are the results compared to simple methods (e.g. linear or logistic regression models)? Which of these approaches yields the best performance?"
      ],
      "metadata": {
        "id": "a1HPI5Kkic4h"
      }
    },
    {
      "cell_type": "markdown",
      "source": [
        "#### ANSWER\n",
        "\n"
      ],
      "metadata": {
        "id": "YOaiqXd055F1"
      }
    },
    {
      "cell_type": "code",
      "source": [
        "# import libraries\n",
        "\n",
        "import numpy as np\n",
        "import pandas as pd\n",
        "from sklearn.model_selection import train_test_split\n",
        "from sklearn.linear_model import LinearRegression\n",
        "from sklearn.metrics import r2_score\n",
        "from sklearn.ensemble import GradientBoostingRegressor\n",
        "from sklearn.ensemble import RandomForestRegressor\n",
        "from sklearn.metrics import confusion_matrix, classification_report, accuracy_score"
      ],
      "metadata": {
        "id": "AXDseudIicUH"
      },
      "execution_count": 1,
      "outputs": []
    },
    {
      "cell_type": "markdown",
      "source": [
        "####a) Read the dataset using function read_csv( ) from pandas library and preprocess the data if required ( check for any missing values etc )\n",
        "\n"
      ],
      "metadata": {
        "id": "oIMIdGczLM3M"
      }
    },
    {
      "cell_type": "code",
      "source": [
        "#Mount Drive\n",
        "\n",
        "from google.colab import drive\n",
        "drive.mount('/content/drive')"
      ],
      "metadata": {
        "colab": {
          "base_uri": "https://localhost:8080/"
        },
        "id": "IQTi4S-_HH3O",
        "outputId": "855c4bf9-5378-4071-8445-f081d6c5590d"
      },
      "execution_count": 2,
      "outputs": [
        {
          "output_type": "stream",
          "name": "stdout",
          "text": [
            "Mounted at /content/drive\n"
          ]
        }
      ]
    },
    {
      "cell_type": "code",
      "source": [
        "# Read the dataset\n",
        "\n",
        "url = '/content/drive/MyDrive/AIML/Auto.csv'\n",
        "data = pd.read_csv(url)"
      ],
      "metadata": {
        "id": "pvoQ2igCTz1A"
      },
      "execution_count": 3,
      "outputs": []
    },
    {
      "cell_type": "code",
      "source": [
        "data.info()"
      ],
      "metadata": {
        "colab": {
          "base_uri": "https://localhost:8080/"
        },
        "id": "RhEhOC9LJ8-u",
        "outputId": "db528f4c-e216-4af2-fde5-d057b0deb55e"
      },
      "execution_count": 4,
      "outputs": [
        {
          "output_type": "stream",
          "name": "stdout",
          "text": [
            "<class 'pandas.core.frame.DataFrame'>\n",
            "RangeIndex: 397 entries, 0 to 396\n",
            "Data columns (total 9 columns):\n",
            " #   Column        Non-Null Count  Dtype  \n",
            "---  ------        --------------  -----  \n",
            " 0   mpg           397 non-null    float64\n",
            " 1   cylinders     397 non-null    int64  \n",
            " 2   displacement  397 non-null    float64\n",
            " 3   horsepower    397 non-null    object \n",
            " 4   weight        397 non-null    int64  \n",
            " 5   acceleration  397 non-null    float64\n",
            " 6   year          397 non-null    int64  \n",
            " 7   origin        397 non-null    int64  \n",
            " 8   name          397 non-null    object \n",
            "dtypes: float64(3), int64(4), object(2)\n",
            "memory usage: 28.0+ KB\n"
          ]
        }
      ]
    },
    {
      "cell_type": "code",
      "source": [
        "data.describe()"
      ],
      "metadata": {
        "colab": {
          "base_uri": "https://localhost:8080/",
          "height": 300
        },
        "id": "jvzwPJjvK9je",
        "outputId": "d28888c4-f40e-428b-b8d5-2dad59a15559"
      },
      "execution_count": 5,
      "outputs": [
        {
          "output_type": "execute_result",
          "data": {
            "text/plain": [
              "              mpg   cylinders  displacement       weight  acceleration  \\\n",
              "count  397.000000  397.000000    397.000000   397.000000    397.000000   \n",
              "mean    23.515869    5.458438    193.532746  2970.261965     15.555668   \n",
              "std      7.825804    1.701577    104.379583   847.904119      2.749995   \n",
              "min      9.000000    3.000000     68.000000  1613.000000      8.000000   \n",
              "25%     17.500000    4.000000    104.000000  2223.000000     13.800000   \n",
              "50%     23.000000    4.000000    146.000000  2800.000000     15.500000   \n",
              "75%     29.000000    8.000000    262.000000  3609.000000     17.100000   \n",
              "max     46.600000    8.000000    455.000000  5140.000000     24.800000   \n",
              "\n",
              "             year      origin  \n",
              "count  397.000000  397.000000  \n",
              "mean    75.994962    1.574307  \n",
              "std      3.690005    0.802549  \n",
              "min     70.000000    1.000000  \n",
              "25%     73.000000    1.000000  \n",
              "50%     76.000000    1.000000  \n",
              "75%     79.000000    2.000000  \n",
              "max     82.000000    3.000000  "
            ],
            "text/html": [
              "\n",
              "\n",
              "  <div id=\"df-88f44834-c490-473d-ad82-b19ed3bf6025\">\n",
              "    <div class=\"colab-df-container\">\n",
              "      <div>\n",
              "<style scoped>\n",
              "    .dataframe tbody tr th:only-of-type {\n",
              "        vertical-align: middle;\n",
              "    }\n",
              "\n",
              "    .dataframe tbody tr th {\n",
              "        vertical-align: top;\n",
              "    }\n",
              "\n",
              "    .dataframe thead th {\n",
              "        text-align: right;\n",
              "    }\n",
              "</style>\n",
              "<table border=\"1\" class=\"dataframe\">\n",
              "  <thead>\n",
              "    <tr style=\"text-align: right;\">\n",
              "      <th></th>\n",
              "      <th>mpg</th>\n",
              "      <th>cylinders</th>\n",
              "      <th>displacement</th>\n",
              "      <th>weight</th>\n",
              "      <th>acceleration</th>\n",
              "      <th>year</th>\n",
              "      <th>origin</th>\n",
              "    </tr>\n",
              "  </thead>\n",
              "  <tbody>\n",
              "    <tr>\n",
              "      <th>count</th>\n",
              "      <td>397.000000</td>\n",
              "      <td>397.000000</td>\n",
              "      <td>397.000000</td>\n",
              "      <td>397.000000</td>\n",
              "      <td>397.000000</td>\n",
              "      <td>397.000000</td>\n",
              "      <td>397.000000</td>\n",
              "    </tr>\n",
              "    <tr>\n",
              "      <th>mean</th>\n",
              "      <td>23.515869</td>\n",
              "      <td>5.458438</td>\n",
              "      <td>193.532746</td>\n",
              "      <td>2970.261965</td>\n",
              "      <td>15.555668</td>\n",
              "      <td>75.994962</td>\n",
              "      <td>1.574307</td>\n",
              "    </tr>\n",
              "    <tr>\n",
              "      <th>std</th>\n",
              "      <td>7.825804</td>\n",
              "      <td>1.701577</td>\n",
              "      <td>104.379583</td>\n",
              "      <td>847.904119</td>\n",
              "      <td>2.749995</td>\n",
              "      <td>3.690005</td>\n",
              "      <td>0.802549</td>\n",
              "    </tr>\n",
              "    <tr>\n",
              "      <th>min</th>\n",
              "      <td>9.000000</td>\n",
              "      <td>3.000000</td>\n",
              "      <td>68.000000</td>\n",
              "      <td>1613.000000</td>\n",
              "      <td>8.000000</td>\n",
              "      <td>70.000000</td>\n",
              "      <td>1.000000</td>\n",
              "    </tr>\n",
              "    <tr>\n",
              "      <th>25%</th>\n",
              "      <td>17.500000</td>\n",
              "      <td>4.000000</td>\n",
              "      <td>104.000000</td>\n",
              "      <td>2223.000000</td>\n",
              "      <td>13.800000</td>\n",
              "      <td>73.000000</td>\n",
              "      <td>1.000000</td>\n",
              "    </tr>\n",
              "    <tr>\n",
              "      <th>50%</th>\n",
              "      <td>23.000000</td>\n",
              "      <td>4.000000</td>\n",
              "      <td>146.000000</td>\n",
              "      <td>2800.000000</td>\n",
              "      <td>15.500000</td>\n",
              "      <td>76.000000</td>\n",
              "      <td>1.000000</td>\n",
              "    </tr>\n",
              "    <tr>\n",
              "      <th>75%</th>\n",
              "      <td>29.000000</td>\n",
              "      <td>8.000000</td>\n",
              "      <td>262.000000</td>\n",
              "      <td>3609.000000</td>\n",
              "      <td>17.100000</td>\n",
              "      <td>79.000000</td>\n",
              "      <td>2.000000</td>\n",
              "    </tr>\n",
              "    <tr>\n",
              "      <th>max</th>\n",
              "      <td>46.600000</td>\n",
              "      <td>8.000000</td>\n",
              "      <td>455.000000</td>\n",
              "      <td>5140.000000</td>\n",
              "      <td>24.800000</td>\n",
              "      <td>82.000000</td>\n",
              "      <td>3.000000</td>\n",
              "    </tr>\n",
              "  </tbody>\n",
              "</table>\n",
              "</div>\n",
              "      <button class=\"colab-df-convert\" onclick=\"convertToInteractive('df-88f44834-c490-473d-ad82-b19ed3bf6025')\"\n",
              "              title=\"Convert this dataframe to an interactive table.\"\n",
              "              style=\"display:none;\">\n",
              "\n",
              "  <svg xmlns=\"http://www.w3.org/2000/svg\" height=\"24px\"viewBox=\"0 0 24 24\"\n",
              "       width=\"24px\">\n",
              "    <path d=\"M0 0h24v24H0V0z\" fill=\"none\"/>\n",
              "    <path d=\"M18.56 5.44l.94 2.06.94-2.06 2.06-.94-2.06-.94-.94-2.06-.94 2.06-2.06.94zm-11 1L8.5 8.5l.94-2.06 2.06-.94-2.06-.94L8.5 2.5l-.94 2.06-2.06.94zm10 10l.94 2.06.94-2.06 2.06-.94-2.06-.94-.94-2.06-.94 2.06-2.06.94z\"/><path d=\"M17.41 7.96l-1.37-1.37c-.4-.4-.92-.59-1.43-.59-.52 0-1.04.2-1.43.59L10.3 9.45l-7.72 7.72c-.78.78-.78 2.05 0 2.83L4 21.41c.39.39.9.59 1.41.59.51 0 1.02-.2 1.41-.59l7.78-7.78 2.81-2.81c.8-.78.8-2.07 0-2.86zM5.41 20L4 18.59l7.72-7.72 1.47 1.35L5.41 20z\"/>\n",
              "  </svg>\n",
              "      </button>\n",
              "\n",
              "\n",
              "\n",
              "    <div id=\"df-8ac0e4e3-61df-42a6-a70c-2fa2067d4f31\">\n",
              "      <button class=\"colab-df-quickchart\" onclick=\"quickchart('df-8ac0e4e3-61df-42a6-a70c-2fa2067d4f31')\"\n",
              "              title=\"Suggest charts.\"\n",
              "              style=\"display:none;\">\n",
              "\n",
              "<svg xmlns=\"http://www.w3.org/2000/svg\" height=\"24px\"viewBox=\"0 0 24 24\"\n",
              "     width=\"24px\">\n",
              "    <g>\n",
              "        <path d=\"M19 3H5c-1.1 0-2 .9-2 2v14c0 1.1.9 2 2 2h14c1.1 0 2-.9 2-2V5c0-1.1-.9-2-2-2zM9 17H7v-7h2v7zm4 0h-2V7h2v10zm4 0h-2v-4h2v4z\"/>\n",
              "    </g>\n",
              "</svg>\n",
              "      </button>\n",
              "    </div>\n",
              "\n",
              "<style>\n",
              "  .colab-df-quickchart {\n",
              "    background-color: #E8F0FE;\n",
              "    border: none;\n",
              "    border-radius: 50%;\n",
              "    cursor: pointer;\n",
              "    display: none;\n",
              "    fill: #1967D2;\n",
              "    height: 32px;\n",
              "    padding: 0 0 0 0;\n",
              "    width: 32px;\n",
              "  }\n",
              "\n",
              "  .colab-df-quickchart:hover {\n",
              "    background-color: #E2EBFA;\n",
              "    box-shadow: 0px 1px 2px rgba(60, 64, 67, 0.3), 0px 1px 3px 1px rgba(60, 64, 67, 0.15);\n",
              "    fill: #174EA6;\n",
              "  }\n",
              "\n",
              "  [theme=dark] .colab-df-quickchart {\n",
              "    background-color: #3B4455;\n",
              "    fill: #D2E3FC;\n",
              "  }\n",
              "\n",
              "  [theme=dark] .colab-df-quickchart:hover {\n",
              "    background-color: #434B5C;\n",
              "    box-shadow: 0px 1px 3px 1px rgba(0, 0, 0, 0.15);\n",
              "    filter: drop-shadow(0px 1px 2px rgba(0, 0, 0, 0.3));\n",
              "    fill: #FFFFFF;\n",
              "  }\n",
              "</style>\n",
              "\n",
              "    <script>\n",
              "      async function quickchart(key) {\n",
              "        const containerElement = document.querySelector('#' + key);\n",
              "        const charts = await google.colab.kernel.invokeFunction(\n",
              "            'suggestCharts', [key], {});\n",
              "      }\n",
              "    </script>\n",
              "\n",
              "      <script>\n",
              "\n",
              "function displayQuickchartButton(domScope) {\n",
              "  let quickchartButtonEl =\n",
              "    domScope.querySelector('#df-8ac0e4e3-61df-42a6-a70c-2fa2067d4f31 button.colab-df-quickchart');\n",
              "  quickchartButtonEl.style.display =\n",
              "    google.colab.kernel.accessAllowed ? 'block' : 'none';\n",
              "}\n",
              "\n",
              "        displayQuickchartButton(document);\n",
              "      </script>\n",
              "      <style>\n",
              "    .colab-df-container {\n",
              "      display:flex;\n",
              "      flex-wrap:wrap;\n",
              "      gap: 12px;\n",
              "    }\n",
              "\n",
              "    .colab-df-convert {\n",
              "      background-color: #E8F0FE;\n",
              "      border: none;\n",
              "      border-radius: 50%;\n",
              "      cursor: pointer;\n",
              "      display: none;\n",
              "      fill: #1967D2;\n",
              "      height: 32px;\n",
              "      padding: 0 0 0 0;\n",
              "      width: 32px;\n",
              "    }\n",
              "\n",
              "    .colab-df-convert:hover {\n",
              "      background-color: #E2EBFA;\n",
              "      box-shadow: 0px 1px 2px rgba(60, 64, 67, 0.3), 0px 1px 3px 1px rgba(60, 64, 67, 0.15);\n",
              "      fill: #174EA6;\n",
              "    }\n",
              "\n",
              "    [theme=dark] .colab-df-convert {\n",
              "      background-color: #3B4455;\n",
              "      fill: #D2E3FC;\n",
              "    }\n",
              "\n",
              "    [theme=dark] .colab-df-convert:hover {\n",
              "      background-color: #434B5C;\n",
              "      box-shadow: 0px 1px 3px 1px rgba(0, 0, 0, 0.15);\n",
              "      filter: drop-shadow(0px 1px 2px rgba(0, 0, 0, 0.3));\n",
              "      fill: #FFFFFF;\n",
              "    }\n",
              "  </style>\n",
              "\n",
              "      <script>\n",
              "        const buttonEl =\n",
              "          document.querySelector('#df-88f44834-c490-473d-ad82-b19ed3bf6025 button.colab-df-convert');\n",
              "        buttonEl.style.display =\n",
              "          google.colab.kernel.accessAllowed ? 'block' : 'none';\n",
              "\n",
              "        async function convertToInteractive(key) {\n",
              "          const element = document.querySelector('#df-88f44834-c490-473d-ad82-b19ed3bf6025');\n",
              "          const dataTable =\n",
              "            await google.colab.kernel.invokeFunction('convertToInteractive',\n",
              "                                                     [key], {});\n",
              "          if (!dataTable) return;\n",
              "\n",
              "          const docLinkHtml = 'Like what you see? Visit the ' +\n",
              "            '<a target=\"_blank\" href=https://colab.research.google.com/notebooks/data_table.ipynb>data table notebook</a>'\n",
              "            + ' to learn more about interactive tables.';\n",
              "          element.innerHTML = '';\n",
              "          dataTable['output_type'] = 'display_data';\n",
              "          await google.colab.output.renderOutput(dataTable, element);\n",
              "          const docLink = document.createElement('div');\n",
              "          docLink.innerHTML = docLinkHtml;\n",
              "          element.appendChild(docLink);\n",
              "        }\n",
              "      </script>\n",
              "    </div>\n",
              "  </div>\n"
            ]
          },
          "metadata": {},
          "execution_count": 5
        }
      ]
    },
    {
      "cell_type": "code",
      "source": [
        "# Check for missing data\n",
        "print(data.isnull().sum())  # Check for missing values in each column"
      ],
      "metadata": {
        "id": "6ZI3Ljr3LdtE",
        "colab": {
          "base_uri": "https://localhost:8080/"
        },
        "outputId": "3d154bcf-df92-4c86-9da2-c9f830fce95c"
      },
      "execution_count": 6,
      "outputs": [
        {
          "output_type": "stream",
          "name": "stdout",
          "text": [
            "mpg             0\n",
            "cylinders       0\n",
            "displacement    0\n",
            "horsepower      0\n",
            "weight          0\n",
            "acceleration    0\n",
            "year            0\n",
            "origin          0\n",
            "name            0\n",
            "dtype: int64\n"
          ]
        }
      ]
    },
    {
      "cell_type": "code",
      "source": [
        "# Handle missing data and convert '?' to Mode of Horsepower\n",
        "data = data.replace('?', data['horsepower'].mode()[0])"
      ],
      "metadata": {
        "id": "r7i9EY2iULJ_"
      },
      "execution_count": 7,
      "outputs": []
    },
    {
      "cell_type": "code",
      "source": [
        "# Convert data types (if applicable)\n",
        "data['horsepower'] = data['horsepower'].astype(np.float64)"
      ],
      "metadata": {
        "id": "S-wG21DtUQpI"
      },
      "execution_count": 8,
      "outputs": []
    },
    {
      "cell_type": "code",
      "source": [
        "data.info()"
      ],
      "metadata": {
        "colab": {
          "base_uri": "https://localhost:8080/"
        },
        "id": "-KSFTyyHV7I7",
        "outputId": "07569828-2606-4ef0-b925-5688982b66fb"
      },
      "execution_count": 9,
      "outputs": [
        {
          "output_type": "stream",
          "name": "stdout",
          "text": [
            "<class 'pandas.core.frame.DataFrame'>\n",
            "RangeIndex: 397 entries, 0 to 396\n",
            "Data columns (total 9 columns):\n",
            " #   Column        Non-Null Count  Dtype  \n",
            "---  ------        --------------  -----  \n",
            " 0   mpg           397 non-null    float64\n",
            " 1   cylinders     397 non-null    int64  \n",
            " 2   displacement  397 non-null    float64\n",
            " 3   horsepower    397 non-null    float64\n",
            " 4   weight        397 non-null    int64  \n",
            " 5   acceleration  397 non-null    float64\n",
            " 6   year          397 non-null    int64  \n",
            " 7   origin        397 non-null    int64  \n",
            " 8   name          397 non-null    object \n",
            "dtypes: float64(4), int64(4), object(1)\n",
            "memory usage: 28.0+ KB\n"
          ]
        }
      ]
    },
    {
      "cell_type": "code",
      "source": [
        "data.head()"
      ],
      "metadata": {
        "colab": {
          "base_uri": "https://localhost:8080/",
          "height": 206
        },
        "id": "qSJzoLP0WBeH",
        "outputId": "5bcc5b86-bd06-4657-a81e-e4607b3a157c"
      },
      "execution_count": 10,
      "outputs": [
        {
          "output_type": "execute_result",
          "data": {
            "text/plain": [
              "    mpg  cylinders  displacement  horsepower  weight  acceleration  year  \\\n",
              "0  18.0          8         307.0       130.0    3504          12.0    70   \n",
              "1  15.0          8         350.0       165.0    3693          11.5    70   \n",
              "2  18.0          8         318.0       150.0    3436          11.0    70   \n",
              "3  16.0          8         304.0       150.0    3433          12.0    70   \n",
              "4  17.0          8         302.0       140.0    3449          10.5    70   \n",
              "\n",
              "   origin                       name  \n",
              "0       1  chevrolet chevelle malibu  \n",
              "1       1          buick skylark 320  \n",
              "2       1         plymouth satellite  \n",
              "3       1              amc rebel sst  \n",
              "4       1                ford torino  "
            ],
            "text/html": [
              "\n",
              "\n",
              "  <div id=\"df-b4664ef6-a1fc-4701-8180-4ad4a632fdb8\">\n",
              "    <div class=\"colab-df-container\">\n",
              "      <div>\n",
              "<style scoped>\n",
              "    .dataframe tbody tr th:only-of-type {\n",
              "        vertical-align: middle;\n",
              "    }\n",
              "\n",
              "    .dataframe tbody tr th {\n",
              "        vertical-align: top;\n",
              "    }\n",
              "\n",
              "    .dataframe thead th {\n",
              "        text-align: right;\n",
              "    }\n",
              "</style>\n",
              "<table border=\"1\" class=\"dataframe\">\n",
              "  <thead>\n",
              "    <tr style=\"text-align: right;\">\n",
              "      <th></th>\n",
              "      <th>mpg</th>\n",
              "      <th>cylinders</th>\n",
              "      <th>displacement</th>\n",
              "      <th>horsepower</th>\n",
              "      <th>weight</th>\n",
              "      <th>acceleration</th>\n",
              "      <th>year</th>\n",
              "      <th>origin</th>\n",
              "      <th>name</th>\n",
              "    </tr>\n",
              "  </thead>\n",
              "  <tbody>\n",
              "    <tr>\n",
              "      <th>0</th>\n",
              "      <td>18.0</td>\n",
              "      <td>8</td>\n",
              "      <td>307.0</td>\n",
              "      <td>130.0</td>\n",
              "      <td>3504</td>\n",
              "      <td>12.0</td>\n",
              "      <td>70</td>\n",
              "      <td>1</td>\n",
              "      <td>chevrolet chevelle malibu</td>\n",
              "    </tr>\n",
              "    <tr>\n",
              "      <th>1</th>\n",
              "      <td>15.0</td>\n",
              "      <td>8</td>\n",
              "      <td>350.0</td>\n",
              "      <td>165.0</td>\n",
              "      <td>3693</td>\n",
              "      <td>11.5</td>\n",
              "      <td>70</td>\n",
              "      <td>1</td>\n",
              "      <td>buick skylark 320</td>\n",
              "    </tr>\n",
              "    <tr>\n",
              "      <th>2</th>\n",
              "      <td>18.0</td>\n",
              "      <td>8</td>\n",
              "      <td>318.0</td>\n",
              "      <td>150.0</td>\n",
              "      <td>3436</td>\n",
              "      <td>11.0</td>\n",
              "      <td>70</td>\n",
              "      <td>1</td>\n",
              "      <td>plymouth satellite</td>\n",
              "    </tr>\n",
              "    <tr>\n",
              "      <th>3</th>\n",
              "      <td>16.0</td>\n",
              "      <td>8</td>\n",
              "      <td>304.0</td>\n",
              "      <td>150.0</td>\n",
              "      <td>3433</td>\n",
              "      <td>12.0</td>\n",
              "      <td>70</td>\n",
              "      <td>1</td>\n",
              "      <td>amc rebel sst</td>\n",
              "    </tr>\n",
              "    <tr>\n",
              "      <th>4</th>\n",
              "      <td>17.0</td>\n",
              "      <td>8</td>\n",
              "      <td>302.0</td>\n",
              "      <td>140.0</td>\n",
              "      <td>3449</td>\n",
              "      <td>10.5</td>\n",
              "      <td>70</td>\n",
              "      <td>1</td>\n",
              "      <td>ford torino</td>\n",
              "    </tr>\n",
              "  </tbody>\n",
              "</table>\n",
              "</div>\n",
              "      <button class=\"colab-df-convert\" onclick=\"convertToInteractive('df-b4664ef6-a1fc-4701-8180-4ad4a632fdb8')\"\n",
              "              title=\"Convert this dataframe to an interactive table.\"\n",
              "              style=\"display:none;\">\n",
              "\n",
              "  <svg xmlns=\"http://www.w3.org/2000/svg\" height=\"24px\"viewBox=\"0 0 24 24\"\n",
              "       width=\"24px\">\n",
              "    <path d=\"M0 0h24v24H0V0z\" fill=\"none\"/>\n",
              "    <path d=\"M18.56 5.44l.94 2.06.94-2.06 2.06-.94-2.06-.94-.94-2.06-.94 2.06-2.06.94zm-11 1L8.5 8.5l.94-2.06 2.06-.94-2.06-.94L8.5 2.5l-.94 2.06-2.06.94zm10 10l.94 2.06.94-2.06 2.06-.94-2.06-.94-.94-2.06-.94 2.06-2.06.94z\"/><path d=\"M17.41 7.96l-1.37-1.37c-.4-.4-.92-.59-1.43-.59-.52 0-1.04.2-1.43.59L10.3 9.45l-7.72 7.72c-.78.78-.78 2.05 0 2.83L4 21.41c.39.39.9.59 1.41.59.51 0 1.02-.2 1.41-.59l7.78-7.78 2.81-2.81c.8-.78.8-2.07 0-2.86zM5.41 20L4 18.59l7.72-7.72 1.47 1.35L5.41 20z\"/>\n",
              "  </svg>\n",
              "      </button>\n",
              "\n",
              "\n",
              "\n",
              "    <div id=\"df-8035ce1b-59e2-4713-ab39-424c2c2a5f67\">\n",
              "      <button class=\"colab-df-quickchart\" onclick=\"quickchart('df-8035ce1b-59e2-4713-ab39-424c2c2a5f67')\"\n",
              "              title=\"Suggest charts.\"\n",
              "              style=\"display:none;\">\n",
              "\n",
              "<svg xmlns=\"http://www.w3.org/2000/svg\" height=\"24px\"viewBox=\"0 0 24 24\"\n",
              "     width=\"24px\">\n",
              "    <g>\n",
              "        <path d=\"M19 3H5c-1.1 0-2 .9-2 2v14c0 1.1.9 2 2 2h14c1.1 0 2-.9 2-2V5c0-1.1-.9-2-2-2zM9 17H7v-7h2v7zm4 0h-2V7h2v10zm4 0h-2v-4h2v4z\"/>\n",
              "    </g>\n",
              "</svg>\n",
              "      </button>\n",
              "    </div>\n",
              "\n",
              "<style>\n",
              "  .colab-df-quickchart {\n",
              "    background-color: #E8F0FE;\n",
              "    border: none;\n",
              "    border-radius: 50%;\n",
              "    cursor: pointer;\n",
              "    display: none;\n",
              "    fill: #1967D2;\n",
              "    height: 32px;\n",
              "    padding: 0 0 0 0;\n",
              "    width: 32px;\n",
              "  }\n",
              "\n",
              "  .colab-df-quickchart:hover {\n",
              "    background-color: #E2EBFA;\n",
              "    box-shadow: 0px 1px 2px rgba(60, 64, 67, 0.3), 0px 1px 3px 1px rgba(60, 64, 67, 0.15);\n",
              "    fill: #174EA6;\n",
              "  }\n",
              "\n",
              "  [theme=dark] .colab-df-quickchart {\n",
              "    background-color: #3B4455;\n",
              "    fill: #D2E3FC;\n",
              "  }\n",
              "\n",
              "  [theme=dark] .colab-df-quickchart:hover {\n",
              "    background-color: #434B5C;\n",
              "    box-shadow: 0px 1px 3px 1px rgba(0, 0, 0, 0.15);\n",
              "    filter: drop-shadow(0px 1px 2px rgba(0, 0, 0, 0.3));\n",
              "    fill: #FFFFFF;\n",
              "  }\n",
              "</style>\n",
              "\n",
              "    <script>\n",
              "      async function quickchart(key) {\n",
              "        const containerElement = document.querySelector('#' + key);\n",
              "        const charts = await google.colab.kernel.invokeFunction(\n",
              "            'suggestCharts', [key], {});\n",
              "      }\n",
              "    </script>\n",
              "\n",
              "      <script>\n",
              "\n",
              "function displayQuickchartButton(domScope) {\n",
              "  let quickchartButtonEl =\n",
              "    domScope.querySelector('#df-8035ce1b-59e2-4713-ab39-424c2c2a5f67 button.colab-df-quickchart');\n",
              "  quickchartButtonEl.style.display =\n",
              "    google.colab.kernel.accessAllowed ? 'block' : 'none';\n",
              "}\n",
              "\n",
              "        displayQuickchartButton(document);\n",
              "      </script>\n",
              "      <style>\n",
              "    .colab-df-container {\n",
              "      display:flex;\n",
              "      flex-wrap:wrap;\n",
              "      gap: 12px;\n",
              "    }\n",
              "\n",
              "    .colab-df-convert {\n",
              "      background-color: #E8F0FE;\n",
              "      border: none;\n",
              "      border-radius: 50%;\n",
              "      cursor: pointer;\n",
              "      display: none;\n",
              "      fill: #1967D2;\n",
              "      height: 32px;\n",
              "      padding: 0 0 0 0;\n",
              "      width: 32px;\n",
              "    }\n",
              "\n",
              "    .colab-df-convert:hover {\n",
              "      background-color: #E2EBFA;\n",
              "      box-shadow: 0px 1px 2px rgba(60, 64, 67, 0.3), 0px 1px 3px 1px rgba(60, 64, 67, 0.15);\n",
              "      fill: #174EA6;\n",
              "    }\n",
              "\n",
              "    [theme=dark] .colab-df-convert {\n",
              "      background-color: #3B4455;\n",
              "      fill: #D2E3FC;\n",
              "    }\n",
              "\n",
              "    [theme=dark] .colab-df-convert:hover {\n",
              "      background-color: #434B5C;\n",
              "      box-shadow: 0px 1px 3px 1px rgba(0, 0, 0, 0.15);\n",
              "      filter: drop-shadow(0px 1px 2px rgba(0, 0, 0, 0.3));\n",
              "      fill: #FFFFFF;\n",
              "    }\n",
              "  </style>\n",
              "\n",
              "      <script>\n",
              "        const buttonEl =\n",
              "          document.querySelector('#df-b4664ef6-a1fc-4701-8180-4ad4a632fdb8 button.colab-df-convert');\n",
              "        buttonEl.style.display =\n",
              "          google.colab.kernel.accessAllowed ? 'block' : 'none';\n",
              "\n",
              "        async function convertToInteractive(key) {\n",
              "          const element = document.querySelector('#df-b4664ef6-a1fc-4701-8180-4ad4a632fdb8');\n",
              "          const dataTable =\n",
              "            await google.colab.kernel.invokeFunction('convertToInteractive',\n",
              "                                                     [key], {});\n",
              "          if (!dataTable) return;\n",
              "\n",
              "          const docLinkHtml = 'Like what you see? Visit the ' +\n",
              "            '<a target=\"_blank\" href=https://colab.research.google.com/notebooks/data_table.ipynb>data table notebook</a>'\n",
              "            + ' to learn more about interactive tables.';\n",
              "          element.innerHTML = '';\n",
              "          dataTable['output_type'] = 'display_data';\n",
              "          await google.colab.output.renderOutput(dataTable, element);\n",
              "          const docLink = document.createElement('div');\n",
              "          docLink.innerHTML = docLinkHtml;\n",
              "          element.appendChild(docLink);\n",
              "        }\n",
              "      </script>\n",
              "    </div>\n",
              "  </div>\n"
            ]
          },
          "metadata": {},
          "execution_count": 10
        }
      ]
    },
    {
      "cell_type": "markdown",
      "source": [
        "#### b) Split the data into train data  and test data ( proportion of train and test data of your choice )\n",
        "\n",
        "Reference :\n",
        "\n",
        "https://scikit-learn.org/stable/modules/generated/sklearn.model_selection.train_test_split.html\n",
        "\n"
      ],
      "metadata": {
        "id": "gDpwNwJNoSY-"
      }
    },
    {
      "cell_type": "code",
      "source": [
        "# Splitting the dataset into train and test sets\n",
        "X = data.drop('mpg', axis=1).select_dtypes(['number'])  # considering only numeric variables\n",
        "y = data['mpg']\n",
        "\n",
        "X_train, X_test, y_train, y_test = train_test_split(X, y, test_size=0.2, random_state=42)"
      ],
      "metadata": {
        "id": "zLHq86i0WZv5"
      },
      "execution_count": 11,
      "outputs": []
    },
    {
      "cell_type": "code",
      "source": [
        "print(\"X_train shape:\", X_train.shape)\n",
        "print(\"X_test shape:\", X_test.shape)\n",
        "print(\"y_train shape:\", y_train.shape)\n",
        "print(\"y_test shape:\", y_test.shape)"
      ],
      "metadata": {
        "colab": {
          "base_uri": "https://localhost:8080/"
        },
        "id": "yH46fJeIWkJs",
        "outputId": "9391d573-0d1c-4a41-88cd-6a85a56ae7fc"
      },
      "execution_count": 12,
      "outputs": [
        {
          "output_type": "stream",
          "name": "stdout",
          "text": [
            "X_train shape: (317, 7)\n",
            "X_test shape: (80, 7)\n",
            "y_train shape: (317,)\n",
            "y_test shape: (80,)\n"
          ]
        }
      ]
    },
    {
      "cell_type": "markdown",
      "source": [
        "####c) Train the data on the below models\n",
        "\n",
        "i) Linear regression model\n",
        "ii) Gradient boosting model\n",
        "iii) Random forest model\n",
        "\n",
        "check the train and test r2 score and mention your findings on which model performed better in terms of underfitting / overfitting etc\n",
        "\n",
        "References:\n",
        "\n",
        "https://scikit-learn.org/stable/modules/generated/sklearn.linear_model.LinearRegression.html\n",
        "\n",
        "https://scikit-learn.org/stable/modules/generated/sklearn.ensemble.GradientBoostingClassifier.html\n",
        "\n",
        "https://scikit-learn.org/stable/modules/generated/sklearn.ensemble.RandomForestClassifier.html\n",
        "\n",
        "https://scikit-learn.org/stable/modules/generated/sklearn.metrics.r2_score.html"
      ],
      "metadata": {
        "id": "PvKCo1fzVwnX"
      }
    },
    {
      "cell_type": "markdown",
      "source": [
        "i) Linear regression model"
      ],
      "metadata": {
        "id": "DdZcRMfdXnFT"
      }
    },
    {
      "cell_type": "code",
      "source": [
        "lr = LinearRegression()\n",
        "lr.fit(X_train, y_train)\n",
        "\n",
        "lr_train_score = r2_score(y_train, lr.predict(X_train))\n",
        "lr_test_score = r2_score(y_test, lr.predict(X_test))\n",
        "\n",
        "print(f\"Linear Regression - Train R2 Score: {lr_train_score}\")\n",
        "print(f\"Linear Regression - Test R2 Score: {lr_test_score}\")"
      ],
      "metadata": {
        "colab": {
          "base_uri": "https://localhost:8080/"
        },
        "id": "I7E3_bdnXimF",
        "outputId": "5d02f329-fdcb-42e1-d8b3-b1bd3e531530"
      },
      "execution_count": 13,
      "outputs": [
        {
          "output_type": "stream",
          "name": "stdout",
          "text": [
            "Linear Regression - Train R2 Score: 0.8273716501726909\n",
            "Linear Regression - Test R2 Score: 0.7863415032555839\n"
          ]
        }
      ]
    },
    {
      "cell_type": "markdown",
      "source": [
        "ii) Gradient boosting model (We will use GradientBoostingRegressor since the target variable is continuous)"
      ],
      "metadata": {
        "id": "ELStGFWBXz17"
      }
    },
    {
      "cell_type": "code",
      "source": [
        "gbr = GradientBoostingRegressor()\n",
        "gbr.fit(X_train, y_train)\n",
        "\n",
        "gbr_train_score = r2_score(y_train, gbr.predict(X_train))\n",
        "gbr_test_score = r2_score(y_test, gbr.predict(X_test))\n",
        "\n",
        "print(f\"Gradient Boosting Regressor - Train R2 Score: {gbr_train_score}\")\n",
        "print(f\"Gradient Boosting Regressor - Test R2 Score: {gbr_test_score}\")"
      ],
      "metadata": {
        "colab": {
          "base_uri": "https://localhost:8080/"
        },
        "id": "5jfwffrqX0lD",
        "outputId": "5f6ca73f-80db-44a9-8378-9f18cdae1f0e"
      },
      "execution_count": 14,
      "outputs": [
        {
          "output_type": "stream",
          "name": "stdout",
          "text": [
            "Gradient Boosting Regressor - Train R2 Score: 0.9767611435995653\n",
            "Gradient Boosting Regressor - Test R2 Score: 0.8104312778953204\n"
          ]
        }
      ]
    },
    {
      "cell_type": "markdown",
      "source": [
        "iii) Random forest model (Using RandomForestRegressor for regression task)"
      ],
      "metadata": {
        "id": "JUMar-feX6I8"
      }
    },
    {
      "cell_type": "code",
      "source": [
        "rfr = RandomForestRegressor()\n",
        "rfr.fit(X_train, y_train)\n",
        "\n",
        "rfr_train_score = r2_score(y_train, rfr.predict(X_train))\n",
        "rfr_test_score = r2_score(y_test, rfr.predict(X_test))\n",
        "\n",
        "print(f\"Random Forest Regressor - Train R2 Score: {rfr_train_score}\")\n",
        "print(f\"Random Forest Regressor - Test R2 Score: {rfr_test_score}\")"
      ],
      "metadata": {
        "colab": {
          "base_uri": "https://localhost:8080/"
        },
        "id": "hgBCMAccX5Xc",
        "outputId": "0f64b18f-b52d-4922-b1c1-b2c5b4fc705e"
      },
      "execution_count": 15,
      "outputs": [
        {
          "output_type": "stream",
          "name": "stdout",
          "text": [
            "Random Forest Regressor - Train R2 Score: 0.9841515420609512\n",
            "Random Forest Regressor - Test R2 Score: 0.8129474615798019\n"
          ]
        }
      ]
    },
    {
      "cell_type": "markdown",
      "source": [
        "### Let's analyze the results:\n",
        "\n",
        "**Linear Regression**\n",
        "- **Train R2 Score**: 0.8274\n",
        "- **Test R2 Score**: 0.7863\n",
        "\n",
        "**Gradient Boosting Regressor**\n",
        "- **Train R2 Score**: 0.9768\n",
        "- **Test R2 Score**: 0.8104\n",
        "\n",
        "**Random Forest Regressor**\n",
        "- **Train R2 Score**: 0.9842\n",
        "- **Test R2 Score**: 0.8129\n",
        "\n",
        "### Analysis:\n",
        "\n",
        "**Linear Regression**\n",
        "- The train and test R2 scores are quite close, implying that the model generalizes well to the unseen data without overfitting or underfitting.\n",
        "- With an R2 score close to 0.8, the model decently captures the variance in the data, though enhancements could further optimize its performance.\n",
        "\n",
        "**Gradient Boosting Regressor**\n",
        "- The high training R2 score suggests an exceptional fit to the training data.\n",
        "- While the test R2 score is higher than the Linear Regression model, the noticeable gap from the training R2 score indicates some degree of overfitting. Yet, when compared with the Random Forest model, the Gradient Boosting Regressor is overfitting slightly less.\n",
        "\n",
        "**Random Forest Regressor**\n",
        "- With an elevated training R2 score, the Random Forest model demonstrates a nearly perfect fit on the training set.\n",
        "- The test R2 score, although marginally higher than the Gradient Boosting Regressor, is accompanied by a more significant gap from the training R2 score, hinting at overfitting. Nevertheless, the Random Forest Regressor offers the best test performance among the three models.\n",
        "\n",
        "### Conclusion:\n",
        "\n",
        "**Linear Regression**:\n",
        "- The Linear Regression model remains a consistent reference, showing neither pronounced underfitting nor overfitting. Its performance is relatively good, considering its simplicity.\n",
        "\n",
        "**Gradient Boosting Regressor**:\n",
        "- The Gradient Boosting Regressor, while exhibiting some overfitting, does so to a slightly lesser extent than the Random Forest model. Its performance on the test data is commendable but slightly overshadowed by the Random Forest Regressor.\n",
        "\n",
        "**Random Forest Regressor**:\n",
        "- The Random Forest Regressor, although hinting at overfitting, delivers the best performance on the test set among the three models. However, its overfitting margin is more than the Gradient Boosting Regressor.\n",
        "\n",
        "In terms of sheer performance on unseen data, the Random Forest Regressor narrowly edges out. However, for scenarios that prioritize model simplicity for easier interpretation, quicker predictions, or to avoid intricacies, the Linear Regression remains a viable choice.\n",
        "\n",
        "To counter overfitting in ensemble models, consider:\n",
        "- Hyperparameter adjustments such as tree depth, number of trees, or boosting's learning rate.\n",
        "- Incorporating more data, if available.\n",
        "- Employing cross-validation for a more rigorous model evaluation.\n",
        "- Applying regularization techniques tailored for tree-based models.\n",
        "\n",
        "While the R2 score is invaluable for a quick performance glimpse, it's crucial to explore additional metrics, scrutinize residuals, and integrate domain-specific insights for a comprehensive model assessment and selection.\n",
        "\n",
        "---"
      ],
      "metadata": {
        "id": "MYWaIzotYTxK"
      }
    },
    {
      "cell_type": "code",
      "source": [
        "!pip install nbconvert"
      ],
      "metadata": {
        "colab": {
          "base_uri": "https://localhost:8080/"
        },
        "id": "zJUczq-YECwA",
        "outputId": "ca38b4ee-35b2-496d-f734-39edeef7ed2e"
      },
      "execution_count": 16,
      "outputs": [
        {
          "output_type": "stream",
          "name": "stdout",
          "text": [
            "Requirement already satisfied: nbconvert in /usr/local/lib/python3.10/dist-packages (6.5.4)\n",
            "Requirement already satisfied: lxml in /usr/local/lib/python3.10/dist-packages (from nbconvert) (4.9.3)\n",
            "Requirement already satisfied: beautifulsoup4 in /usr/local/lib/python3.10/dist-packages (from nbconvert) (4.11.2)\n",
            "Requirement already satisfied: bleach in /usr/local/lib/python3.10/dist-packages (from nbconvert) (6.0.0)\n",
            "Requirement already satisfied: defusedxml in /usr/local/lib/python3.10/dist-packages (from nbconvert) (0.7.1)\n",
            "Requirement already satisfied: entrypoints>=0.2.2 in /usr/local/lib/python3.10/dist-packages (from nbconvert) (0.4)\n",
            "Requirement already satisfied: jinja2>=3.0 in /usr/local/lib/python3.10/dist-packages (from nbconvert) (3.1.2)\n",
            "Requirement already satisfied: jupyter-core>=4.7 in /usr/local/lib/python3.10/dist-packages (from nbconvert) (5.3.1)\n",
            "Requirement already satisfied: jupyterlab-pygments in /usr/local/lib/python3.10/dist-packages (from nbconvert) (0.2.2)\n",
            "Requirement already satisfied: MarkupSafe>=2.0 in /usr/local/lib/python3.10/dist-packages (from nbconvert) (2.1.3)\n",
            "Requirement already satisfied: mistune<2,>=0.8.1 in /usr/local/lib/python3.10/dist-packages (from nbconvert) (0.8.4)\n",
            "Requirement already satisfied: nbclient>=0.5.0 in /usr/local/lib/python3.10/dist-packages (from nbconvert) (0.8.0)\n",
            "Requirement already satisfied: nbformat>=5.1 in /usr/local/lib/python3.10/dist-packages (from nbconvert) (5.9.2)\n",
            "Requirement already satisfied: packaging in /usr/local/lib/python3.10/dist-packages (from nbconvert) (23.1)\n",
            "Requirement already satisfied: pandocfilters>=1.4.1 in /usr/local/lib/python3.10/dist-packages (from nbconvert) (1.5.0)\n",
            "Requirement already satisfied: pygments>=2.4.1 in /usr/local/lib/python3.10/dist-packages (from nbconvert) (2.16.1)\n",
            "Requirement already satisfied: tinycss2 in /usr/local/lib/python3.10/dist-packages (from nbconvert) (1.2.1)\n",
            "Requirement already satisfied: traitlets>=5.0 in /usr/local/lib/python3.10/dist-packages (from nbconvert) (5.7.1)\n",
            "Requirement already satisfied: platformdirs>=2.5 in /usr/local/lib/python3.10/dist-packages (from jupyter-core>=4.7->nbconvert) (3.10.0)\n",
            "Requirement already satisfied: jupyter-client>=6.1.12 in /usr/local/lib/python3.10/dist-packages (from nbclient>=0.5.0->nbconvert) (6.1.12)\n",
            "Requirement already satisfied: fastjsonschema in /usr/local/lib/python3.10/dist-packages (from nbformat>=5.1->nbconvert) (2.18.0)\n",
            "Requirement already satisfied: jsonschema>=2.6 in /usr/local/lib/python3.10/dist-packages (from nbformat>=5.1->nbconvert) (4.19.0)\n",
            "Requirement already satisfied: soupsieve>1.2 in /usr/local/lib/python3.10/dist-packages (from beautifulsoup4->nbconvert) (2.4.1)\n",
            "Requirement already satisfied: six>=1.9.0 in /usr/local/lib/python3.10/dist-packages (from bleach->nbconvert) (1.16.0)\n",
            "Requirement already satisfied: webencodings in /usr/local/lib/python3.10/dist-packages (from bleach->nbconvert) (0.5.1)\n",
            "Requirement already satisfied: attrs>=22.2.0 in /usr/local/lib/python3.10/dist-packages (from jsonschema>=2.6->nbformat>=5.1->nbconvert) (23.1.0)\n",
            "Requirement already satisfied: jsonschema-specifications>=2023.03.6 in /usr/local/lib/python3.10/dist-packages (from jsonschema>=2.6->nbformat>=5.1->nbconvert) (2023.7.1)\n",
            "Requirement already satisfied: referencing>=0.28.4 in /usr/local/lib/python3.10/dist-packages (from jsonschema>=2.6->nbformat>=5.1->nbconvert) (0.30.2)\n",
            "Requirement already satisfied: rpds-py>=0.7.1 in /usr/local/lib/python3.10/dist-packages (from jsonschema>=2.6->nbformat>=5.1->nbconvert) (0.9.2)\n",
            "Requirement already satisfied: pyzmq>=13 in /usr/local/lib/python3.10/dist-packages (from jupyter-client>=6.1.12->nbclient>=0.5.0->nbconvert) (23.2.1)\n",
            "Requirement already satisfied: python-dateutil>=2.1 in /usr/local/lib/python3.10/dist-packages (from jupyter-client>=6.1.12->nbclient>=0.5.0->nbconvert) (2.8.2)\n",
            "Requirement already satisfied: tornado>=4.1 in /usr/local/lib/python3.10/dist-packages (from jupyter-client>=6.1.12->nbclient>=0.5.0->nbconvert) (6.3.1)\n"
          ]
        }
      ]
    },
    {
      "cell_type": "code",
      "source": [
        "#!jupyter nbconvert --to html /content/UoA_Course_3_Assignment_1_Week_5_Learner_template.ipynb"
      ],
      "metadata": {
        "id": "vSYM9bRDEF8A"
      },
      "execution_count": 17,
      "outputs": []
    }
  ]
}